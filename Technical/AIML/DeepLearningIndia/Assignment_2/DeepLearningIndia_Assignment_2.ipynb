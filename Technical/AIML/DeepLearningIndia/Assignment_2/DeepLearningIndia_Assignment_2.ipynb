{
 "cells": [
  {
   "cell_type": "markdown",
   "metadata": {},
   "source": [
    "# Deep Learning India - Assignment 2 : CIFAR-10 using Densenet"
   ]
  },
  {
   "cell_type": "markdown",
   "metadata": {},
   "source": [
    "##### **Problem** : Achieve an accuracy beyond 85% for a Image classification using CIFAR-10 dataset based on [Densenet](https://arxiv.org/pdf/1608.06993.pdf) paper"
   ]
  },
  {
   "cell_type": "markdown",
   "metadata": {},
   "source": [
    "##### Sample CIFAR-10 dataset\n",
    "\n",
    "![CIFAR-10 Dataset](https://github.com/praveenraghuvanshi1512/Learning/blob/DeepLearningIndia_VV/Technical/AIML/DeepLearningIndia/Assignment_2/images/cifar2.jpg?raw=true)"
   ]
  },
  {
   "cell_type": "markdown",
   "metadata": {},
   "source": [
    "### Steps ###\n",
    "1. Initial Setup and configuration\n",
    "2. Load CIFAR-10 dataset\n",
    "3. Prepare Data\n",
    "4. Create model pipeline\n",
    "5. Compile Model\n",
    "6. Train/Fit Model\n",
    "7. Evaluate Model"
   ]
  },
  {
   "cell_type": "markdown",
   "metadata": {},
   "source": [
    "### Step 1: Initial Setup and Configuration"
   ]
  },
  {
   "cell_type": "code",
   "execution_count": null,
   "metadata": {},
   "outputs": [],
   "source": [
    "# STEP 1: Initial Setup and Configuration\n",
    "\n",
    "# 1.1 Set theano as backend to keras\n",
    "from keras import backend as k\n",
    "import os\n",
    "import importlib\n",
    "\n",
    "def set_keras_backend(backend):\n",
    "    if k.backend() != backend:\n",
    "        os.environ['KERAS_BACKEND'] = backend\n",
    "        importlib.reload(k)\n",
    "        assert k.backend() == backend\n",
    "\n",
    "set_keras_backend(\"theano\")\n",
    "\n",
    "# 1.2 Enable intellisense in jupyter notebook\n",
    "%config IPCompleter.greedy=True"
   ]
  },
  {
   "cell_type": "markdown",
   "metadata": {},
   "source": [
    "#### Utility Functions\n",
    "##### Display Images"
   ]
  },
  {
   "cell_type": "code",
   "execution_count": null,
   "metadata": {},
   "outputs": [],
   "source": [
    "# Utility functions\n",
    "\n",
    "from matplotlib import pyplot\n",
    "from PIL import Image\n",
    "\n",
    "# Display images\n",
    "def show_images(x):\n",
    "    pyplot.figure(1)\n",
    "    k = 0\n",
    "    for i in range(0, 4):\n",
    "        for j in range(0, 4):\n",
    "            pyplot.subplot2grid((4, 4), (i, j))\n",
    "            pyplot.imshow(Image.fromarray(x[k]))\n",
    "            k = k + 1\n",
    "    # Show the plot\n",
    "    pyplot.show()"
   ]
  },
  {
   "cell_type": "markdown",
   "metadata": {},
   "source": [
    "##### Plot losses"
   ]
  },
  {
   "cell_type": "code",
   "execution_count": null,
   "metadata": {},
   "outputs": [],
   "source": [
    "# Plot Losses\n",
    "\n",
    "def plotLosses(history):  \n",
    "    plt.plot(history.history['loss'])\n",
    "    plt.plot(history.history['val_loss'])\n",
    "    plt.title('model loss')\n",
    "    plt.ylabel('loss')\n",
    "    plt.xlabel('epoch')\n",
    "    plt.legend(['train', 'validation'], loc='upper left')\n",
    "    plt.show()"
   ]
  },
  {
   "cell_type": "markdown",
   "metadata": {},
   "source": [
    "### Step 2: Load CIFAR-10 dataset"
   ]
  },
  {
   "cell_type": "code",
   "execution_count": null,
   "metadata": {},
   "outputs": [],
   "source": [
    "# Step 2: Load CIFAR-10 dataset\n",
    "from keras.datasets import cifar10\n",
    "\n",
    "(X_train, y_train), (X_test, y_test) = cifar10.load_data();"
   ]
  },
  {
   "cell_type": "markdown",
   "metadata": {},
   "source": [
    "##### Examining Dataset"
   ]
  },
  {
   "cell_type": "code",
   "execution_count": null,
   "metadata": {},
   "outputs": [],
   "source": [
    "print(X_train.shape)\n",
    "print(X_test.shape)\n",
    "print(y_train.shape)\n",
    "print(y_test.shape)"
   ]
  },
  {
   "cell_type": "markdown",
   "metadata": {},
   "source": [
    "- There are 50000 training and 10000 testing images\n",
    "- CIFAR-10 dataset has color images of shape(width, height, channels) : 32 x 32 x 3\n",
    "- No of channels for a colored image : 3(Red + Green + Blue)\n",
    "- No of classes : 10 - Type of objects in images such as airplane, bird, truck etc."
   ]
  },
  {
   "cell_type": "code",
   "execution_count": null,
   "metadata": {
    "scrolled": true
   },
   "outputs": [],
   "source": [
    "# Display first 16 images\n",
    "\n",
    "show_images(X_test[:16])"
   ]
  },
  {
   "cell_type": "markdown",
   "metadata": {},
   "source": [
    "### Step 3: Prepare data"
   ]
  },
  {
   "cell_type": "code",
   "execution_count": null,
   "metadata": {},
   "outputs": [],
   "source": [
    "# STEP 3: Prepare Data\n",
    "\n",
    "from keras.utils import np_utils\n",
    "import numpy as np\n",
    "\n",
    "# Transform images from (32, 32, 3) to 3072-dimensional vector(32*32*3)\n",
    "X_train = np.reshape(X_train,(50000,3072))\n",
    "X_test = np.reshape(X_test,(10000,3072))\n",
    "\n",
    "# Converting unsigned integers to 32-bit float precision\n",
    "# so that it can be better utilized during normalization such as diving by mac pixel value of 255\n",
    "X_train = X_train.astype(np.float32)\n",
    "X_test =  X_test.astype(np.float32)\n",
    "\n",
    "# Normalization of pixel values (to [0-1] range)\n",
    "X_train /= 255\n",
    "X_test /= 255\n",
    "\n",
    "# Convert class vectors to binary class matrices\n",
    "num_classes = 10\n",
    "y_train = np_utils.to_categorical(y_train,num_classes)\n",
    "y_test = np_utils.to_categorical(y_test,num_classes)\n",
    "\n",
    "print(y_train[0])"
   ]
  },
  {
   "cell_type": "markdown",
   "metadata": {},
   "source": [
    "##### Examining Dataset"
   ]
  },
  {
   "cell_type": "code",
   "execution_count": null,
   "metadata": {},
   "outputs": [],
   "source": [
    "print(X_train.shape, \"X_train\")\n",
    "print(X_test.shape, \"X_test\")\n",
    "print(y_train.shape,\"y_train\")\n",
    "print(y_test.shape, \"y_train\")"
   ]
  },
  {
   "cell_type": "code",
   "execution_count": null,
   "metadata": {},
   "outputs": [],
   "source": [
    "print('X_train[0] :\\n', X_train[0])\n",
    "print('\\n')\n",
    "print('y_train[0] :\\n', y_train[0, 0][0])"
   ]
  },
  {
   "cell_type": "markdown",
   "metadata": {},
   "source": [
    "### Step 4: Create Model Pipeline - Multi Layer perceptron(MLP)"
   ]
  },
  {
   "cell_type": "code",
   "execution_count": null,
   "metadata": {},
   "outputs": [],
   "source": [
    "# STEP 4: Create Model pipeline\n",
    "\n",
    "from keras.models import Sequential\n",
    "from keras.layers import Dense, Activation\n",
    "\n",
    "# Input shape is a tensor of image.\n",
    "# CIFAR-10 has images of dimension (witdth * height * channel) as 32 x 32 x 3\n",
    "input_dim = 32 * 32 * 3 # 3072\n",
    "print(input_dim, 'input dimension')\n",
    "\n",
    "# Learned parameter calculation :\n",
    "# https://www.youtube.com/watch?v=gmBfb6LNnZs\n",
    "# No of parameters = (Previous layer channels * Current layer filters * kernel) + bias(current filter count)\n",
    "\n",
    "# Create model - Input Layer\n",
    "# Learned Parameter: 0 . No parameters to be learned in input layer\n",
    "model = Sequential()\n",
    "\n",
    "# Now we'll add hidden layers\n",
    "\n",
    "# Dense layer - Its a fully connected layer where all neurons from previous are connected to all neurons in dense layer\n",
    "# Activation - These functions allows non-linear transformations to be performed on a given input which is a complex process\n",
    "# Learned Parameter: (3072 * 256) + 256 = 786688\n",
    "model.add(Dense(256, activation='relu', input_dim=input_dim))\n",
    "\n",
    "# Learned Parameter: (256 * 256) + 256 = 65792\n",
    "model.add(Dense(256, activation='relu'))\n",
    "\n",
    "# Learned Parameter: (256 * 10) + 10 = 2570\n",
    "model.add(Dense(num_classes, activation='softmax'))\n",
    "\n",
    "model.summary()"
   ]
  },
  {
   "cell_type": "markdown",
   "metadata": {},
   "source": [
    "### Step 5: Compile Model - Configures model for training"
   ]
  },
  {
   "cell_type": "code",
   "execution_count": null,
   "metadata": {},
   "outputs": [],
   "source": [
    "# STEP 5: Compile Model : Configures model for training\n",
    "\n",
    "model.compile(loss='categorical_crossentropy', optimizer='adam', metrics=['accuracy'])"
   ]
  },
  {
   "cell_type": "markdown",
   "metadata": {},
   "source": [
    "### Step 6: Train/Fit Model\n",
    "Save training loss and accuracy to history object for later visualization"
   ]
  },
  {
   "cell_type": "code",
   "execution_count": null,
   "metadata": {},
   "outputs": [],
   "source": [
    "# STEP 6: Train/Fit Model\n",
    "\n",
    "history = model.fit(X_train, y_train,\n",
    "              batch_size=32,\n",
    "              epochs=10,\n",
    "              validation_data=(X_test, y_test))"
   ]
  },
  {
   "cell_type": "markdown",
   "metadata": {},
   "source": [
    "##### Plot Losses"
   ]
  },
  {
   "cell_type": "code",
   "execution_count": null,
   "metadata": {},
   "outputs": [],
   "source": [
    "# Plot losses\n",
    "plotLosses(history)"
   ]
  },
  {
   "cell_type": "markdown",
   "metadata": {},
   "source": [
    "### Step 7: Evaluate"
   ]
  },
  {
   "cell_type": "code",
   "execution_count": null,
   "metadata": {},
   "outputs": [],
   "source": [
    "# Evaluate model\n",
    "score = model.evaluate(X_test, y_test, batch_size=128, verbose=0)"
   ]
  },
  {
   "cell_type": "code",
   "execution_count": null,
   "metadata": {},
   "outputs": [],
   "source": [
    "print(model.metrics_names)\n",
    "print(score)"
   ]
  },
  {
   "cell_type": "markdown",
   "metadata": {},
   "source": [
    "### Observations\n",
    "\n",
    "Image classification using Multilevel Perceptron(MLP) on CIFAR-10 dataset.\n",
    "\n",
    "- Neural network with 3 Dense layer\n",
    "- Very large no of parameters (855,050)\n",
    "- Time consuming : Didn't complete training\n",
    "- No Shareable parameters\n",
    "- Inefficient network"
   ]
  },
  {
   "cell_type": "markdown",
   "metadata": {},
   "source": [
    "### References\n",
    "\n",
    "- [CIFAR-10 Demo](http://home.mit.bme.hu/~hadhazi/Oktatas/NN18/dem3/html_demo/CIFAR-10Demo.html)\n",
    "- [Learnable Parametersin a Convolutional Neural Network(CNN) explained](https://www.youtube.com/watch?v=gmBfb6LNnZs)\n",
    "- [How to calculate the number of parameters in the CNN?](https://medium.com/@iamvarman/how-to-calculate-the-number-of-parameters-in-the-cnn-5bd55364d7ca#targetText=To%20calculate%20it%2C%20we%20have,3%E2%80%931))%20%3D%2048.)\n",
    "- [Understanding and Calculating the number of Parameters in Convolution Neural Networks (CNNs)](https://towardsdatascience.com/understanding-and-calculating-the-number-of-parameters-in-convolution-neural-networks-cnns-fc88790d530d)\n",
    "- [Calculate model parameters in Convolutional Neural Networks (CIFAR-10)](https://stats.stackexchange.com/questions/336908/calculate-model-parameters-in-convolutional-neural-networks-cifar-10)"
   ]
  },
  {
   "cell_type": "code",
   "execution_count": null,
   "metadata": {},
   "outputs": [],
   "source": []
  }
 ],
 "metadata": {
  "kernelspec": {
   "display_name": "Python 3",
   "language": "python",
   "name": "python3"
  },
  "language_info": {
   "codemirror_mode": {
    "name": "ipython",
    "version": 3
   },
   "file_extension": ".py",
   "mimetype": "text/x-python",
   "name": "python",
   "nbconvert_exporter": "python",
   "pygments_lexer": "ipython3",
   "version": "3.6.4"
  }
 },
 "nbformat": 4,
 "nbformat_minor": 2
}
