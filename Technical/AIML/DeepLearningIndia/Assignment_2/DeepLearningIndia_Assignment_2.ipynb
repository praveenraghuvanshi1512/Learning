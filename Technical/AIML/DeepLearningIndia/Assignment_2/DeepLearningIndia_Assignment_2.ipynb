{
 "cells": [
  {
   "cell_type": "markdown",
   "metadata": {},
   "source": [
    "# Deep Learning India - Assignment 2 : CIFAR-10 using Densenet"
   ]
  },
  {
   "cell_type": "markdown",
   "metadata": {},
   "source": [
    "##### **Problem** : Achieve an accuracy beyond 85% for a Image classification using CIFAR-10 dataset based on [Densenet](https://arxiv.org/pdf/1608.06993.pdf) paper"
   ]
  },
  {
   "cell_type": "markdown",
   "metadata": {},
   "source": [
    "##### Sample CIFAR-10 dataset\n",
    "\n",
    "![CIFAR-10 Dataset](https://github.com/praveenraghuvanshi1512/Learning/blob/DeepLearningIndia_VV/Technical/AIML/DeepLearningIndia/Assignment_2/images/cifar2.jpg?raw=true)"
   ]
  },
  {
   "cell_type": "markdown",
   "metadata": {},
   "source": [
    "### Steps ###\n",
    "1. Initial Setup and configuration\n",
    "2. Load CIFAR-10 dataset\n",
    "3. Prepare Data\n",
    "4. Create model pipeline\n",
    "5. Compile Model\n",
    "6. Train/Fit Model\n",
    "7. Evaluate Model"
   ]
  },
  {
   "cell_type": "markdown",
   "metadata": {},
   "source": [
    "### Step 1: Initial Setup and Configuration\n",
    "\n",
    "    1.1 Set Keras backend\n",
    "    1.2 Enable intellisense in jupyter notebook\n",
    "    1.3 Initialize tensorboard\n",
    "    1.4 Utility functions\n",
    "        1.4.1 Display Images\n",
    "        1.4.2 Plot Accuracy\n",
    "        1.4.3 Plot Losses"
   ]
  },
  {
   "cell_type": "code",
   "execution_count": 187,
   "metadata": {},
   "outputs": [
    {
     "name": "stdout",
     "output_type": "stream",
     "text": [
      "tensorflow version:  2.0.0\n",
      "The tensorboard extension is already loaded. To reload it, use:\n",
      "  %reload_ext tensorboard\n"
     ]
    }
   ],
   "source": [
    "# STEP 1: Initial Setup and Configuration\n",
    "\n",
    "# 1.1 Set keras backend\n",
    "from keras import backend as k\n",
    "import os\n",
    "import importlib\n",
    "\n",
    "def set_keras_backend(backend):\n",
    "    if k.backend() != backend:\n",
    "        os.environ['KERAS_BACKEND'] = backend\n",
    "        importlib.reload(k)\n",
    "        assert k.backend() == backend\n",
    "\n",
    "set_keras_backend(\"tensorflow\")\n",
    "\n",
    "if k.backend() == 'tensorflow':\n",
    "    import tensorflow as tf\n",
    "    print('tensorflow version: ', tf.__version__)\n",
    "    \n",
    "# 1.2 Enable intellisense in jupyter notebook\n",
    "%config IPCompleter.greedy=True\n",
    "\n",
    "# 1.3 Initialize Tensorboard\n",
    "from datetime import datetime\n",
    "\n",
    "# Define the Keras TensorBoard callback.\n",
    "logdir = os.path.join(\n",
    "    \"logs\",\n",
    "    \"fit\",\n",
    "    datetime.now().strftime(\"%Y%m%d-%H%M%S\"),\n",
    ")\n",
    "tensorboard_callback = tf.keras.callbacks.TensorBoard(log_dir=logdir)\n",
    "\n",
    "%load_ext tensorboard"
   ]
  },
  {
   "cell_type": "markdown",
   "metadata": {},
   "source": [
    "####  1.4 Utility Functions\n",
    "##### 1.4.1 Display Images"
   ]
  },
  {
   "cell_type": "code",
   "execution_count": 188,
   "metadata": {},
   "outputs": [],
   "source": [
    "# Utility functions\n",
    "\n",
    "from matplotlib import pyplot\n",
    "from PIL import Image\n",
    "\n",
    "# Display images\n",
    "def show_images(x):\n",
    "    pyplot.figure(1)\n",
    "    k = 0\n",
    "    for i in range(0, 4):\n",
    "        for j in range(0, 4):\n",
    "            pyplot.subplot2grid((4, 4), (i, j))\n",
    "            pyplot.imshow(Image.fromarray(x[k]))\n",
    "            k = k + 1\n",
    "    # Show the plot\n",
    "    pyplot.show()\n",
    "    \n",
    "# Display single image\n",
    "def show_image(x):\n",
    "    pyplot.figure(1)\n",
    "    pyplot.imshow(Image.fromarray(x[0]))\n",
    "    pyplot.show()\n"
   ]
  },
  {
   "cell_type": "markdown",
   "metadata": {},
   "source": [
    "#### 1.4.2 Plot Accuracy"
   ]
  },
  {
   "cell_type": "code",
   "execution_count": 189,
   "metadata": {},
   "outputs": [],
   "source": [
    "import keras\n",
    "from matplotlib import pyplot as plt\n",
    "\n",
    "def plotAccuracy(history):\n",
    "    plt.plot(history.history['accuracy'])\n",
    "    plt.plot(history.history['val_accuracy'])\n",
    "    plt.title('model accuracy')\n",
    "    plt.ylabel('accuracy')\n",
    "    plt.xlabel('epoch')\n",
    "    plt.legend(['train', 'validation'], loc='upper left')\n",
    "    plt.show()"
   ]
  },
  {
   "cell_type": "markdown",
   "metadata": {},
   "source": [
    "##### 1.4.3 Plot losses"
   ]
  },
  {
   "cell_type": "code",
   "execution_count": 190,
   "metadata": {},
   "outputs": [],
   "source": [
    "# Plot Losses\n",
    "import matplotlib.pyplot as plt\n",
    "\n",
    "def plotLosses(history):  \n",
    "    plt.plot(history.history['loss'])\n",
    "    plt.plot(history.history['val_loss'])\n",
    "    plt.title('model loss')\n",
    "    plt.ylabel('loss')\n",
    "    plt.xlabel('epoch')\n",
    "    plt.legend(['train', 'validation'], loc='upper left')\n",
    "    plt.show()"
   ]
  },
  {
   "cell_type": "markdown",
   "metadata": {},
   "source": [
    "### Step 2: Load CIFAR-10 dataset"
   ]
  },
  {
   "cell_type": "code",
   "execution_count": 191,
   "metadata": {},
   "outputs": [],
   "source": [
    "# Step 2: Load CIFAR-10 dataset\n",
    "from keras.datasets import cifar10\n",
    "\n",
    "(X_train, y_train), (X_test, y_test) = cifar10.load_data();"
   ]
  },
  {
   "cell_type": "markdown",
   "metadata": {},
   "source": [
    "##### Examining Dataset"
   ]
  },
  {
   "cell_type": "code",
   "execution_count": 192,
   "metadata": {},
   "outputs": [
    {
     "name": "stdout",
     "output_type": "stream",
     "text": [
      "(50000, 32, 32, 3)\n",
      "(10000, 32, 32, 3)\n",
      "(50000, 1)\n",
      "(10000, 1)\n"
     ]
    }
   ],
   "source": [
    "print(X_train.shape)\n",
    "print(X_test.shape)\n",
    "print(y_train.shape)\n",
    "print(y_test.shape)"
   ]
  },
  {
   "cell_type": "markdown",
   "metadata": {},
   "source": [
    "- There are 50000 training and 10000 testing images\n",
    "- CIFAR-10 dataset has color images of shape(width, height, channels) : 32 x 32 x 3\n",
    "- No of channels for a colored image : 3(Red + Green + Blue)\n",
    "- No of classes : 10 - Type of objects in images such as airplane, bird, truck etc."
   ]
  },
  {
   "cell_type": "code",
   "execution_count": 193,
   "metadata": {
    "scrolled": true
   },
   "outputs": [
    {
     "data": {
      "image/png": "[encoded data removed]",
      "text/plain": [
       "<Figure size 432x288 with 16 Axes>"
      ]
     },
     "metadata": {},
     "output_type": "display_data"
    }
   ],
   "source": [
    "# Display first 16 images\n",
    "\n",
    "show_images(X_test[:16])"
   ]
  },
  {
   "cell_type": "markdown",
   "metadata": {},
   "source": [
    "### Step 3: Prepare data"
   ]
  },
  {
   "cell_type": "code",
   "execution_count": 194,
   "metadata": {},
   "outputs": [],
   "source": [
    "# Intialize variables\n",
    "num_classes = 10\n",
    "max_pixel_value = 255\n",
    "kernel_size = (3, 3)\n",
    "input_filters = 64\n",
    "\n",
    "# Input shape is a tensor of image.\n",
    "# CIFAR-10 has images of dimension (witdth * height * channels[Red, Green, Blue]) as 32 x 32 x 3\n",
    "input_shape = (32, 32, 3) \n",
    "\n",
    "batch_size = 32\n",
    "epochs = 10"
   ]
  },
  {
   "cell_type": "code",
   "execution_count": 195,
   "metadata": {},
   "outputs": [
    {
     "name": "stdout",
     "output_type": "stream",
     "text": [
      "[0. 0. 0. 0. 0. 0. 1. 0. 0. 0.]\n"
     ]
    }
   ],
   "source": [
    "# STEP 3: Prepare Data\n",
    "\n",
    "from keras.utils import np_utils\n",
    "import numpy as np\n",
    "\n",
    "# Converting unsigned integers to 32-bit float precision\n",
    "# so that it can be better utilized during normalization such as diving by max pixel value of 255\n",
    "X_train = X_train.astype(np.float32)\n",
    "X_test =  X_test.astype(np.float32)\n",
    "\n",
    "# Normalization of pixel values (to [0-1] range)\n",
    "X_train /= max_pixel_value\n",
    "X_test /= max_pixel_value\n",
    "\n",
    "# Convert class vectors to binary class matrices\n",
    "y_train = np_utils.to_categorical(y_train,num_classes)\n",
    "y_test = np_utils.to_categorical(y_test,num_classes)\n",
    "\n",
    "print(y_train[0])"
   ]
  },
  {
   "cell_type": "markdown",
   "metadata": {},
   "source": [
    "##### Examining Dataset"
   ]
  },
  {
   "cell_type": "code",
   "execution_count": 196,
   "metadata": {},
   "outputs": [
    {
     "name": "stdout",
     "output_type": "stream",
     "text": [
      "(50000, 32, 32, 3) X_train\n",
      "(10000, 32, 32, 3) X_test\n",
      "(50000, 10) y_train\n",
      "(10000, 10) y_train\n"
     ]
    }
   ],
   "source": [
    "print(X_train.shape, \"X_train\")\n",
    "print(X_test.shape, \"X_test\")\n",
    "print(y_train.shape,\"y_train\")\n",
    "print(y_test.shape, \"y_train\")"
   ]
  },
  {
   "cell_type": "code",
   "execution_count": 197,
   "metadata": {},
   "outputs": [
    {
     "name": "stdout",
     "output_type": "stream",
     "text": [
      "X_train[0] :\n",
      " [[[0.23137255 0.24313726 0.24705882]\n",
      "  [0.16862746 0.18039216 0.1764706 ]\n",
      "  [0.19607843 0.1882353  0.16862746]\n",
      "  ...\n",
      "  [0.61960787 0.5176471  0.42352942]\n",
      "  [0.59607846 0.49019608 0.4       ]\n",
      "  [0.5803922  0.4862745  0.40392157]]\n",
      "\n",
      " [[0.0627451  0.07843138 0.07843138]\n",
      "  [0.         0.         0.        ]\n",
      "  [0.07058824 0.03137255 0.        ]\n",
      "  ...\n",
      "  [0.48235294 0.34509805 0.21568628]\n",
      "  [0.46666667 0.3254902  0.19607843]\n",
      "  [0.47843137 0.34117648 0.22352941]]\n",
      "\n",
      " [[0.09803922 0.09411765 0.08235294]\n",
      "  [0.0627451  0.02745098 0.        ]\n",
      "  [0.19215687 0.10588235 0.03137255]\n",
      "  ...\n",
      "  [0.4627451  0.32941177 0.19607843]\n",
      "  [0.47058824 0.32941177 0.19607843]\n",
      "  [0.42745098 0.28627452 0.16470589]]\n",
      "\n",
      " ...\n",
      "\n",
      " [[0.8156863  0.6666667  0.3764706 ]\n",
      "  [0.7882353  0.6        0.13333334]\n",
      "  [0.7764706  0.6313726  0.10196079]\n",
      "  ...\n",
      "  [0.627451   0.52156866 0.27450982]\n",
      "  [0.21960784 0.12156863 0.02745098]\n",
      "  [0.20784314 0.13333334 0.07843138]]\n",
      "\n",
      " [[0.7058824  0.54509807 0.3764706 ]\n",
      "  [0.6784314  0.48235294 0.16470589]\n",
      "  [0.7294118  0.5647059  0.11764706]\n",
      "  ...\n",
      "  [0.72156864 0.5803922  0.36862746]\n",
      "  [0.38039216 0.24313726 0.13333334]\n",
      "  [0.3254902  0.20784314 0.13333334]]\n",
      "\n",
      " [[0.69411767 0.5647059  0.45490196]\n",
      "  [0.65882355 0.5058824  0.36862746]\n",
      "  [0.7019608  0.5568628  0.34117648]\n",
      "  ...\n",
      "  [0.84705883 0.72156864 0.54901963]\n",
      "  [0.5921569  0.4627451  0.32941177]\n",
      "  [0.48235294 0.36078432 0.28235295]]]\n",
      "\n",
      "\n",
      "y_train[0] :\n",
      " [0. 0. 0. 0. 0. 0. 1. 0. 0. 0.]\n"
     ]
    }
   ],
   "source": [
    "print('X_train[0] :\\n', X_train[0])\n",
    "print('\\n')\n",
    "print('y_train[0] :\\n', y_train[0:1][0])"
   ]
  },
  {
   "cell_type": "markdown",
   "metadata": {},
   "source": [
    "### Step 4: Create Model Pipeline - Basic CNN"
   ]
  },
  {
   "cell_type": "code",
   "execution_count": 97,
   "metadata": {},
   "outputs": [
    {
     "name": "stdout",
     "output_type": "stream",
     "text": [
      "Model: \"sequential_5\"\n",
      "_________________________________________________________________\n",
      "Layer (type)                 Output Shape              Param #   \n",
      "=================================================================\n",
      "conv2d_75 (Conv2D)           (None, 30, 30, 64)        1792      \n",
      "_________________________________________________________________\n",
      "conv2d_76 (Conv2D)           (None, 28, 28, 32)        18464     \n",
      "_________________________________________________________________\n",
      "flatten_5 (Flatten)          (None, 25088)             0         \n",
      "_________________________________________________________________\n",
      "dense_5 (Dense)              (None, 10)                250890    \n",
      "=================================================================\n",
      "Total params: 271,146\n",
      "Trainable params: 271,146\n",
      "Non-trainable params: 0\n",
      "_________________________________________________________________\n"
     ]
    }
   ],
   "source": [
    "# STEP 4: Create Model pipeline\n",
    "\n",
    "# Learned parameter calculation :\\n\",\n",
    "# https://www.youtube.com/watch?v=gmBfb6LNnZs\\n\",\n",
    "# No of parameters = (Previous layer channels * Current layer filters * kernel) + bias(current filter count)\n",
    "\n",
    "from tensorflow.keras.models import Sequential\n",
    "from tensorflow.keras.layers import Dense, Conv2D, Flatten, BatchNormalization\n",
    "\n",
    "# Create model - Input Layer\n",
    "# Learned Parameters: 0 . No parameters to be learned in input layer\n",
    "model = Sequential()\n",
    "\n",
    "# Now we'll add hidden layers\n",
    "\n",
    "# First Convolution layer : filters: 64, kernel size: 3x3 \n",
    "# Learned Parameters: (3 * 64 * 3 * 3) + 64 = 1792\n",
    "model.add(Conv2D(input_filters, kernel_size=kernel_size, activation='relu', input_shape=input_shape))\n",
    "\n",
    "# Second Convolution layer: filters: 32, kernel size: 3x3\n",
    "# Learned Parameters: (64 * 32 * 3 * 3) + 32 = 18464\n",
    "model.add(Conv2D(32, kernel_size=kernel_size, activation='relu'))\n",
    "\n",
    "# Flatten modifies the dimension of a tensor to a vector\n",
    "# Output shape : 28 * 28 * 32 = 25088\n",
    "# Learned Parameters: 0. No parameters are learned here as we are just changing the dimension\n",
    "model.add(Flatten())\n",
    "\n",
    "# Dense layer - Its a fully connected layer where all neurons from previous are connected to all neurons in dense layer\n",
    "# Activation - These functions allows non-linear transformations to be performed on a given input which is a complex process\n",
    "# Learned Parameter: (25088 * 10) + 10 = 250890\",\n",
    "model.add(Dense(num_classes, activation='softmax'))\n",
    "\n",
    "model.summary()"
   ]
  },
  {
   "cell_type": "markdown",
   "metadata": {},
   "source": [
    "### Step 5: Compile Model - Configures model for training"
   ]
  },
  {
   "cell_type": "code",
   "execution_count": 157,
   "metadata": {
    "scrolled": true
   },
   "outputs": [
    {
     "name": "stdout",
     "output_type": "stream",
     "text": [
      "lr:  0.001\n"
     ]
    }
   ],
   "source": [
    "# STEP 5: Compile Model : Configures model for training\n",
    "\n",
    "model.compile(loss='categorical_crossentropy', optimizer='Adam', metrics=['accuracy'])\n",
    "print('lr: ', tf.keras.backend.eval(model.optimizer.lr))"
   ]
  },
  {
   "cell_type": "markdown",
   "metadata": {},
   "source": [
    "### Step 6: Train/Fit Model\n",
    "Save training loss and accuracy to history object for later visualization"
   ]
  },
  {
   "cell_type": "code",
   "execution_count": 35,
   "metadata": {
    "scrolled": true
   },
   "outputs": [
    {
     "name": "stdout",
     "output_type": "stream",
     "text": [
      "Train on 50000 samples, validate on 10000 samples\n",
      "Epoch 1/10\n",
      "50000/50000 [==============================] - 102s 2ms/sample - loss: 1.4273 - accuracy: 0.4924 - val_loss: 1.2139 - val_accuracy: 0.5756\n",
      "Epoch 2/10\n",
      "50000/50000 [==============================] - 98s 2ms/sample - loss: 1.1129 - accuracy: 0.6108 - val_loss: 1.1081 - val_accuracy: 0.6143\n",
      "Epoch 3/10\n",
      "50000/50000 [==============================] - 98s 2ms/sample - loss: 0.9654 - accuracy: 0.6650 - val_loss: 1.1163 - val_accuracy: 0.6081\n",
      "Epoch 4/10\n",
      "50000/50000 [==============================] - 104s 2ms/sample - loss: 0.8682 - accuracy: 0.6971 - val_loss: 1.1323 - val_accuracy: 0.6139\n",
      "Epoch 5/10\n",
      "50000/50000 [==============================] - 99s 2ms/sample - loss: 0.7810 - accuracy: 0.7289 - val_loss: 1.0674 - val_accuracy: 0.6411\n",
      "Epoch 6/10\n",
      "50000/50000 [==============================] - 98s 2ms/sample - loss: 0.7011 - accuracy: 0.7570 - val_loss: 1.1341 - val_accuracy: 0.6284\n",
      "Epoch 7/10\n",
      "50000/50000 [==============================] - 99s 2ms/sample - loss: 0.6247 - accuracy: 0.7833 - val_loss: 1.2090 - val_accuracy: 0.6151\n",
      "Epoch 8/10\n",
      "50000/50000 [==============================] - 103s 2ms/sample - loss: 0.5538 - accuracy: 0.8074 - val_loss: 1.2469 - val_accuracy: 0.6199\n",
      "Epoch 9/10\n",
      "50000/50000 [==============================] - 101s 2ms/sample - loss: 0.4906 - accuracy: 0.8305 - val_loss: 1.3524 - val_accuracy: 0.6171\n",
      "Epoch 10/10\n",
      "50000/50000 [==============================] - 102s 2ms/sample - loss: 0.4274 - accuracy: 0.8508 - val_loss: 1.4787 - val_accuracy: 0.6087\n"
     ]
    }
   ],
   "source": [
    "# STEP 6: Train/Fit Model\n",
    "\n",
    "history = model.fit(X_train, y_train,\n",
    "              batch_size=batch_size,\n",
    "              epochs=epochs,\n",
    "              validation_data=(X_test, y_test),\n",
    "              callbacks=[tensorboard_callback])"
   ]
  },
  {
   "cell_type": "markdown",
   "metadata": {},
   "source": [
    "##### Plot Accuracy and Losses\n",
    "\n",
    "References\n",
    "- https://stats.stackexchange.com/questions/292700/overfitting-in-neural-network\n",
    "\n",
    "![Interpret Model accuracy plot](https://i.stack.imgur.com/v4sP2.png)"
   ]
  },
  {
   "cell_type": "code",
   "execution_count": 37,
   "metadata": {},
   "outputs": [
    {
     "data": {
      "text/plain": [
       "Reusing TensorBoard on port 6006 (pid 14248), started 19:26:44 ago. (Use '!kill 14248' to kill it.)"
      ]
     },
     "metadata": {},
     "output_type": "display_data"
    },
    {
     "data": {
      "text/html": [
       "\n",
       "      <iframe id=\"tensorboard-frame-a9bccc21abc2aee4\" width=\"100%\" height=\"800\" frameborder=\"0\">\n",
       "      </iframe>\n",
       "      <script>\n",
       "        (function() {\n",
       "          const frame = document.getElementById(\"tensorboard-frame-a9bccc21abc2aee4\");\n",
       "          const url = new URL(\"/\", window.location);\n",
       "          url.port = 6006;\n",
       "          frame.src = url;\n",
       "        })();\n",
       "      </script>\n",
       "  "
      ],
      "text/plain": [
       "<IPython.core.display.HTML object>"
      ]
     },
     "metadata": {},
     "output_type": "display_data"
    }
   ],
   "source": [
    "%tensorboard --logdir logs"
   ]
  },
  {
   "cell_type": "code",
   "execution_count": 38,
   "metadata": {},
   "outputs": [
    {
     "data": {
      "image/png": "[encoded data removed]",
      "text/plain": [
       "<Figure size 432x288 with 1 Axes>"
      ]
     },
     "metadata": {},
     "output_type": "display_data"
    }
   ],
   "source": [
    "# Plot Accuracy\n",
    "plotAccuracy(history)"
   ]
  },
  {
   "cell_type": "code",
   "execution_count": 39,
   "metadata": {},
   "outputs": [
    {
     "data": {
      "image/png": "[encoded data removed]",
      "text/plain": [
       "<Figure size 432x288 with 1 Axes>"
      ]
     },
     "metadata": {},
     "output_type": "display_data"
    }
   ],
   "source": [
    "# Plot losses\n",
    "plotLosses(history)"
   ]
  },
  {
   "cell_type": "markdown",
   "metadata": {},
   "source": [
    "#### Analysis"
   ]
  },
  {
   "cell_type": "markdown",
   "metadata": {},
   "source": [
    "- Validation accuracy : 60.87%\n",
    "- Trainable parameters : 271,146\n",
    "- The training loss is decreasing, but validation loss is way above and increasing\n",
    "- Divergence between training and validation accuracy.\n",
    "- Model is overfitting\n",
    "- Learning rate is high : 0.001"
   ]
  },
  {
   "cell_type": "markdown",
   "metadata": {},
   "source": [
    "### Step 7: Evaluate"
   ]
  },
  {
   "cell_type": "code",
   "execution_count": 40,
   "metadata": {},
   "outputs": [],
   "source": [
    "# Evaluate model\n",
    "score = model.evaluate(X_test, y_test, batch_size=batch_size, verbose=0)"
   ]
  },
  {
   "cell_type": "code",
   "execution_count": 41,
   "metadata": {},
   "outputs": [
    {
     "name": "stdout",
     "output_type": "stream",
     "text": [
      "['loss', 'accuracy']\n",
      "[1.4786773986816406, 0.6087]\n"
     ]
    }
   ],
   "source": [
    "print(model.metrics_names)\n",
    "print(score)"
   ]
  },
  {
   "cell_type": "markdown",
   "metadata": {},
   "source": [
    "### Observations\n",
    "\n",
    "Image classification using Convolutional Neural Network on CIFAR-10 dataset.\n",
    "\n",
    "- Convolutional Neural network(CNN) \n",
    "- Parameters reduced to 271,146 from 855,050 in Nultilayer perceptron(MLP) network\n",
    "- Training is fast even on CPU with 1.5 mins per epoch\n",
    "- Shareable parameters across layers\n",
    "- Better network\n",
    "- Suffering from Overfitting\n",
    "- [Overfitting plots](https://www.freecodecamp.org/news/how-to-build-your-first-neural-network-to-predict-house-prices-with-keras-f8db83049159/)\n",
    "- [Plot analysis](https://stats.stackexchange.com/questions/292700/overfitting-in-neural-network)"
   ]
  },
  {
   "cell_type": "markdown",
   "metadata": {},
   "source": [
    "### References\n",
    "\n",
    "- [CIFAR-10 Demo](http://home.mit.bme.hu/~hadhazi/Oktatas/NN18/dem3/html_demo/CIFAR-10Demo.html)\n",
    "- [Learnable Parametersin a Convolutional Neural Network(CNN) explained](https://www.youtube.com/watch?v=gmBfb6LNnZs)\n",
    "- [How to calculate the number of parameters in the CNN?](https://medium.com/@iamvarman/how-to-calculate-the-number-of-parameters-in-the-cnn-5bd55364d7ca#targetText=To%20calculate%20it%2C%20we%20have,3%E2%80%931))%20%3D%2048.)\n",
    "- [Understanding and Calculating the number of Parameters in Convolution Neural Networks (CNNs)](https://towardsdatascience.com/understanding-and-calculating-the-number-of-parameters-in-convolution-neural-networks-cnns-fc88790d530d)\n",
    "- [Calculate model parameters in Convolutional Neural Networks (CIFAR-10)](https://stats.stackexchange.com/questions/336908/calculate-model-parameters-in-convolutional-neural-networks-cifar-10)\n",
    "- [Overfitting plots](https://www.freecodecamp.org/news/how-to-build-your-first-neural-network-to-predict-house-prices-with-keras-f8db83049159/)\n",
    "- [Plot analysis](https://stats.stackexchange.com/questions/292700/overfitting-in-neural-network)"
   ]
  },
  {
   "cell_type": "markdown",
   "metadata": {},
   "source": [
    "******* END of Basic CNN *******\n",
    "\n",
    "---------------------------------"
   ]
  },
  {
   "cell_type": "markdown",
   "metadata": {},
   "source": [
    "# Densenet"
   ]
  },
  {
   "attachments": {},
   "cell_type": "markdown",
   "metadata": {},
   "source": [
    "### Introduction\n",
    "\n",
    "Densenet is a logical extension to Renet architecture with some changes.\n",
    "ResNet architecture has a fundamental building block (Identity) where you merge (additive) a previous layer into a future layer. Reasoning here is by adding additive merges we are forcing the network to learn residuals (errors i.e. diff between some previous layer and current one). In contrast, DenseNet paper proposes concatenating outputs from the previous layers instead of using the summation.\n",
    "\n",
    "\n",
    "Recent work has shown that convolutional networks can be substantially deeper, more accurate, and efficient to train if they contain shorter connections between layers close to the input and those close to the output.\n",
    "\n",
    "Resnet is based on Element-wise addition whereas Densenet is based on concatenation\n",
    "\n",
    "##### Resnet - Element-wise addition/summation\n",
    "------------------------------------------\n",
    "Suppose there are 5 people(A,B,C,D,E) who contributed to a charity show an amount of $100, $200 $ 300, $400 and $500.\n",
    "Total amount : $100 + $200 + $300 + $400 + $500 = $1500\n",
    "\n",
    "- In element-wise addition , we keep on adding the items(contribution) to get the total. However, we lost the information on who(A, B, C, D, E) has contributed how much.\n",
    "- We are loosing information in summation\n",
    "\n",
    "\n",
    "##### Densenet - Concatenation\n",
    "------------------------------\n",
    "- We add the items(contributions) to get the total as well as save the contributor informtion.\n",
    "- Power of feature reuse\n",
    "- Every layer has information about previous layers, thereby not lossing any information.\n",
    "- Diversified features compared to correlated features in Resnet\n",
    "- Maintain low complexity\n",
    "- More shortcut connections, better gradient flow\n",
    "- Less Parameters, Computationaly efficient\n",
    "- It has Bottleneck Layer. Reducing no of channels using 1x1. Dimensionality reduction\n",
    "- Almost half parameters\n",
    "\n",
    "Say you are with friends. Each of you has some money. In this case, concatenating means you will write a list of how much everyone has. Summing it would give you the total.\n",
    "\n",
    "Concatenation means keeping every information where they are. Since you do not alter the data, that’s what should be done by default. But that’s not free. You have to keep that in memory, therefore it may be interesting to avoid it as much as possible.\n",
    "\n",
    "![Densenet](images/densenet.jpeg)\n",
    "------\n",
    "![Densenet Architecture](images/densenet_architecture.jpeg)\n",
    "-------\n",
    "![Densenet Architecture](images/densenet_architecture_1.jpeg)\n",
    "\n",
    "![](images/Standard_resnet_densenet.png)\n",
    "\n",
    "![](images/Standard_resnet_densenet_2.jpeg)\n",
    "\n",
    "\n",
    "### Videos\n",
    "\n",
    "[![MLT CNN Architectures: DenseNet - theory](http://img.youtube.com/vi/wh-n-pTxMZU/0.jpg)](http://www.youtube.com/watch?v=wh-n-pTxMZU)\n",
    "\n",
    "-------\n",
    "\n",
    "[![MLT CNN Architectures: DenseNet - implementation](http://img.youtube.com/vi/QKtoh9FJIWQ/0.jpg)](http://www.youtube.com/watch?v=QKtoh9FJIWQ)"
   ]
  },
  {
   "cell_type": "markdown",
   "metadata": {},
   "source": [
    "## Densenet - Implementation"
   ]
  },
  {
   "cell_type": "markdown",
   "metadata": {},
   "source": [
    "![Densenet Architecture : Multiple Dense blocks](images/densenet_architecture_dense_blocks.jpeg)"
   ]
  },
  {
   "cell_type": "markdown",
   "metadata": {},
   "source": [
    "#### Densenet Architecture - 121\n",
    "\n",
    "![Densenet Architecture](images/densenet_architecture.jpeg)"
   ]
  },
  {
   "cell_type": "code",
   "execution_count": 198,
   "metadata": {},
   "outputs": [],
   "source": [
    "# Denset function\n",
    "# Note: Start with 64 filters \n",
    "# In dense block the 1 x 1 has 4 * filters and we concatenate input with output tensor\n",
    "# In transition reduce channels to half of the existing\n",
    "\n",
    "\n",
    "from tensorflow.keras.models import Model\n",
    "from tensorflow.keras.layers import Input, BatchNormalization, ReLU\n",
    "from tensorflow.keras.layers import Conv2D, AvgPool2D, MaxPool2D, GlobalAveragePooling2D, Dense, concatenate\n",
    "\n",
    "def densenet(input_shape, n_classes, f = 32):\n",
    "\n",
    "    def bn_relu_conv(x, f, k=1, s=1):\n",
    "        x = BatchNormalization()(x)\n",
    "        x = ReLU()(x)\n",
    "        x = Conv2D(f, k, strides = s, padding = 'same')(x)\n",
    "        return x\n",
    "    \n",
    "    def dense_block(x, r):\n",
    "        for _ in range(r):\n",
    "            y = bn_relu_conv(x, 4 * f)\n",
    "            y = bn_relu_conv(y, f, 3)\n",
    "            x = concatenate([y, x])\n",
    "        return x\n",
    "            \n",
    "            \n",
    "    def transition_layer(x):\n",
    "        x = bn_relu_conv(x, tf.keras.backend.int_shape(x)[-1] // 2)\n",
    "        x = AvgPool2D(2, strides=2, padding='same')(x)\n",
    "        return x\n",
    "    \n",
    "    input = Input(input_shape)\n",
    "    x = Conv2D(64, 7, strides = 2, padding = 'same')(input)\n",
    "    x = MaxPool2D(3, strides = 2, padding = 'same')(x)\n",
    "\n",
    "    for r in [6, 12, 24, 16]:\n",
    "        d = dense_block(x, r)\n",
    "        x = transition_layer(d)\n",
    "    \n",
    "    x = GlobalAveragePooling2D()(d)\n",
    "    output = Dense(n_classes, activation = 'softmax')(x)\n",
    "    \n",
    "    model = Model(input, output)\n",
    "    return model"
   ]
  },
  {
   "cell_type": "code",
   "execution_count": 199,
   "metadata": {
    "scrolled": true
   },
   "outputs": [
    {
     "name": "stdout",
     "output_type": "stream",
     "text": [
      "Model: \"model_9\"\n",
      "__________________________________________________________________________________________________\n",
      "Layer (type)                    Output Shape         Param #     Connected to                     \n",
      "==================================================================================================\n",
      "input_52 (InputLayer)           [(None, 32, 32, 3)]  0                                            \n",
      "__________________________________________________________________________________________________\n",
      "conv2d_884 (Conv2D)             (None, 16, 16, 64)   9472        input_52[0][0]                   \n",
      "__________________________________________________________________________________________________\n",
      "max_pooling2d_49 (MaxPooling2D) (None, 8, 8, 64)     0           conv2d_884[0][0]                 \n",
      "__________________________________________________________________________________________________\n",
      "batch_normalization_447 (BatchN (None, 8, 8, 64)     256         max_pooling2d_49[0][0]           \n",
      "__________________________________________________________________________________________________\n",
      "re_lu_537 (ReLU)                (None, 8, 8, 64)     0           batch_normalization_447[0][0]    \n",
      "__________________________________________________________________________________________________\n",
      "conv2d_885 (Conv2D)             (None, 8, 8, 128)    8320        re_lu_537[0][0]                  \n",
      "__________________________________________________________________________________________________\n",
      "batch_normalization_448 (BatchN (None, 8, 8, 128)    512         conv2d_885[0][0]                 \n",
      "__________________________________________________________________________________________________\n",
      "re_lu_538 (ReLU)                (None, 8, 8, 128)    0           batch_normalization_448[0][0]    \n",
      "__________________________________________________________________________________________________\n",
      "conv2d_886 (Conv2D)             (None, 8, 8, 32)     36896       re_lu_538[0][0]                  \n",
      "__________________________________________________________________________________________________\n",
      "concatenate_320 (Concatenate)   (None, 8, 8, 96)     0           conv2d_886[0][0]                 \n",
      "                                                                 max_pooling2d_49[0][0]           \n",
      "__________________________________________________________________________________________________\n",
      "batch_normalization_449 (BatchN (None, 8, 8, 96)     384         concatenate_320[0][0]            \n",
      "__________________________________________________________________________________________________\n",
      "re_lu_539 (ReLU)                (None, 8, 8, 96)     0           batch_normalization_449[0][0]    \n",
      "__________________________________________________________________________________________________\n",
      "conv2d_887 (Conv2D)             (None, 8, 8, 128)    12416       re_lu_539[0][0]                  \n",
      "__________________________________________________________________________________________________\n",
      "batch_normalization_450 (BatchN (None, 8, 8, 128)    512         conv2d_887[0][0]                 \n",
      "__________________________________________________________________________________________________\n",
      "re_lu_540 (ReLU)                (None, 8, 8, 128)    0           batch_normalization_450[0][0]    \n",
      "__________________________________________________________________________________________________\n",
      "conv2d_888 (Conv2D)             (None, 8, 8, 32)     36896       re_lu_540[0][0]                  \n",
      "__________________________________________________________________________________________________\n",
      "concatenate_321 (Concatenate)   (None, 8, 8, 128)    0           conv2d_888[0][0]                 \n",
      "                                                                 concatenate_320[0][0]            \n",
      "__________________________________________________________________________________________________\n",
      "batch_normalization_451 (BatchN (None, 8, 8, 128)    512         concatenate_321[0][0]            \n",
      "__________________________________________________________________________________________________\n",
      "re_lu_541 (ReLU)                (None, 8, 8, 128)    0           batch_normalization_451[0][0]    \n",
      "__________________________________________________________________________________________________\n",
      "conv2d_889 (Conv2D)             (None, 8, 8, 128)    16512       re_lu_541[0][0]                  \n",
      "__________________________________________________________________________________________________\n",
      "batch_normalization_452 (BatchN (None, 8, 8, 128)    512         conv2d_889[0][0]                 \n",
      "__________________________________________________________________________________________________\n",
      "re_lu_542 (ReLU)                (None, 8, 8, 128)    0           batch_normalization_452[0][0]    \n",
      "__________________________________________________________________________________________________\n",
      "conv2d_890 (Conv2D)             (None, 8, 8, 32)     36896       re_lu_542[0][0]                  \n",
      "__________________________________________________________________________________________________\n",
      "concatenate_322 (Concatenate)   (None, 8, 8, 160)    0           conv2d_890[0][0]                 \n",
      "                                                                 concatenate_321[0][0]            \n",
      "__________________________________________________________________________________________________\n",
      "batch_normalization_453 (BatchN (None, 8, 8, 160)    640         concatenate_322[0][0]            \n",
      "__________________________________________________________________________________________________\n",
      "re_lu_543 (ReLU)                (None, 8, 8, 160)    0           batch_normalization_453[0][0]    \n",
      "__________________________________________________________________________________________________\n",
      "conv2d_891 (Conv2D)             (None, 8, 8, 128)    20608       re_lu_543[0][0]                  \n",
      "__________________________________________________________________________________________________\n",
      "batch_normalization_454 (BatchN (None, 8, 8, 128)    512         conv2d_891[0][0]                 \n",
      "__________________________________________________________________________________________________\n",
      "re_lu_544 (ReLU)                (None, 8, 8, 128)    0           batch_normalization_454[0][0]    \n",
      "__________________________________________________________________________________________________\n",
      "conv2d_892 (Conv2D)             (None, 8, 8, 32)     36896       re_lu_544[0][0]                  \n",
      "__________________________________________________________________________________________________\n",
      "concatenate_323 (Concatenate)   (None, 8, 8, 192)    0           conv2d_892[0][0]                 \n",
      "                                                                 concatenate_322[0][0]            \n",
      "__________________________________________________________________________________________________\n",
      "batch_normalization_455 (BatchN (None, 8, 8, 192)    768         concatenate_323[0][0]            \n",
      "__________________________________________________________________________________________________\n",
      "re_lu_545 (ReLU)                (None, 8, 8, 192)    0           batch_normalization_455[0][0]    \n",
      "__________________________________________________________________________________________________\n",
      "conv2d_893 (Conv2D)             (None, 8, 8, 128)    24704       re_lu_545[0][0]                  \n",
      "__________________________________________________________________________________________________\n",
      "batch_normalization_456 (BatchN (None, 8, 8, 128)    512         conv2d_893[0][0]                 \n",
      "__________________________________________________________________________________________________\n",
      "re_lu_546 (ReLU)                (None, 8, 8, 128)    0           batch_normalization_456[0][0]    \n",
      "__________________________________________________________________________________________________\n",
      "conv2d_894 (Conv2D)             (None, 8, 8, 32)     36896       re_lu_546[0][0]                  \n",
      "__________________________________________________________________________________________________\n",
      "concatenate_324 (Concatenate)   (None, 8, 8, 224)    0           conv2d_894[0][0]                 \n",
      "                                                                 concatenate_323[0][0]            \n",
      "__________________________________________________________________________________________________\n",
      "batch_normalization_457 (BatchN (None, 8, 8, 224)    896         concatenate_324[0][0]            \n",
      "__________________________________________________________________________________________________\n",
      "re_lu_547 (ReLU)                (None, 8, 8, 224)    0           batch_normalization_457[0][0]    \n",
      "__________________________________________________________________________________________________\n",
      "conv2d_895 (Conv2D)             (None, 8, 8, 128)    28800       re_lu_547[0][0]                  \n",
      "__________________________________________________________________________________________________\n",
      "batch_normalization_458 (BatchN (None, 8, 8, 128)    512         conv2d_895[0][0]                 \n",
      "__________________________________________________________________________________________________\n",
      "re_lu_548 (ReLU)                (None, 8, 8, 128)    0           batch_normalization_458[0][0]    \n",
      "__________________________________________________________________________________________________\n",
      "conv2d_896 (Conv2D)             (None, 8, 8, 32)     36896       re_lu_548[0][0]                  \n",
      "__________________________________________________________________________________________________\n",
      "concatenate_325 (Concatenate)   (None, 8, 8, 256)    0           conv2d_896[0][0]                 \n",
      "                                                                 concatenate_324[0][0]            \n",
      "__________________________________________________________________________________________________\n",
      "batch_normalization_459 (BatchN (None, 8, 8, 256)    1024        concatenate_325[0][0]            \n",
      "__________________________________________________________________________________________________\n",
      "re_lu_549 (ReLU)                (None, 8, 8, 256)    0           batch_normalization_459[0][0]    \n",
      "__________________________________________________________________________________________________\n",
      "conv2d_897 (Conv2D)             (None, 8, 8, 128)    32896       re_lu_549[0][0]                  \n",
      "__________________________________________________________________________________________________\n",
      "average_pooling2d_24 (AveragePo (None, 4, 4, 128)    0           conv2d_897[0][0]                 \n",
      "__________________________________________________________________________________________________\n",
      "batch_normalization_460 (BatchN (None, 4, 4, 128)    512         average_pooling2d_24[0][0]       \n",
      "__________________________________________________________________________________________________\n",
      "re_lu_550 (ReLU)                (None, 4, 4, 128)    0           batch_normalization_460[0][0]    \n",
      "__________________________________________________________________________________________________\n",
      "conv2d_898 (Conv2D)             (None, 4, 4, 128)    16512       re_lu_550[0][0]                  \n",
      "__________________________________________________________________________________________________\n",
      "batch_normalization_461 (BatchN (None, 4, 4, 128)    512         conv2d_898[0][0]                 \n",
      "__________________________________________________________________________________________________\n",
      "re_lu_551 (ReLU)                (None, 4, 4, 128)    0           batch_normalization_461[0][0]    \n",
      "__________________________________________________________________________________________________\n",
      "conv2d_899 (Conv2D)             (None, 4, 4, 32)     36896       re_lu_551[0][0]                  \n",
      "__________________________________________________________________________________________________\n",
      "concatenate_326 (Concatenate)   (None, 4, 4, 160)    0           conv2d_899[0][0]                 \n",
      "                                                                 average_pooling2d_24[0][0]       \n",
      "__________________________________________________________________________________________________\n",
      "batch_normalization_462 (BatchN (None, 4, 4, 160)    640         concatenate_326[0][0]            \n",
      "__________________________________________________________________________________________________\n",
      "re_lu_552 (ReLU)                (None, 4, 4, 160)    0           batch_normalization_462[0][0]    \n",
      "__________________________________________________________________________________________________\n",
      "conv2d_900 (Conv2D)             (None, 4, 4, 128)    20608       re_lu_552[0][0]                  \n",
      "__________________________________________________________________________________________________\n",
      "batch_normalization_463 (BatchN (None, 4, 4, 128)    512         conv2d_900[0][0]                 \n",
      "__________________________________________________________________________________________________\n",
      "re_lu_553 (ReLU)                (None, 4, 4, 128)    0           batch_normalization_463[0][0]    \n",
      "__________________________________________________________________________________________________\n",
      "conv2d_901 (Conv2D)             (None, 4, 4, 32)     36896       re_lu_553[0][0]                  \n",
      "__________________________________________________________________________________________________\n",
      "concatenate_327 (Concatenate)   (None, 4, 4, 192)    0           conv2d_901[0][0]                 \n",
      "                                                                 concatenate_326[0][0]            \n",
      "__________________________________________________________________________________________________\n",
      "batch_normalization_464 (BatchN (None, 4, 4, 192)    768         concatenate_327[0][0]            \n",
      "__________________________________________________________________________________________________\n",
      "re_lu_554 (ReLU)                (None, 4, 4, 192)    0           batch_normalization_464[0][0]    \n",
      "__________________________________________________________________________________________________\n",
      "conv2d_902 (Conv2D)             (None, 4, 4, 128)    24704       re_lu_554[0][0]                  \n",
      "__________________________________________________________________________________________________\n",
      "batch_normalization_465 (BatchN (None, 4, 4, 128)    512         conv2d_902[0][0]                 \n",
      "__________________________________________________________________________________________________\n",
      "re_lu_555 (ReLU)                (None, 4, 4, 128)    0           batch_normalization_465[0][0]    \n",
      "__________________________________________________________________________________________________\n",
      "conv2d_903 (Conv2D)             (None, 4, 4, 32)     36896       re_lu_555[0][0]                  \n",
      "__________________________________________________________________________________________________\n",
      "concatenate_328 (Concatenate)   (None, 4, 4, 224)    0           conv2d_903[0][0]                 \n",
      "                                                                 concatenate_327[0][0]            \n",
      "__________________________________________________________________________________________________\n",
      "batch_normalization_466 (BatchN (None, 4, 4, 224)    896         concatenate_328[0][0]            \n",
      "__________________________________________________________________________________________________\n",
      "re_lu_556 (ReLU)                (None, 4, 4, 224)    0           batch_normalization_466[0][0]    \n",
      "__________________________________________________________________________________________________\n",
      "conv2d_904 (Conv2D)             (None, 4, 4, 128)    28800       re_lu_556[0][0]                  \n",
      "__________________________________________________________________________________________________\n",
      "batch_normalization_467 (BatchN (None, 4, 4, 128)    512         conv2d_904[0][0]                 \n",
      "__________________________________________________________________________________________________\n",
      "re_lu_557 (ReLU)                (None, 4, 4, 128)    0           batch_normalization_467[0][0]    \n",
      "__________________________________________________________________________________________________\n",
      "conv2d_905 (Conv2D)             (None, 4, 4, 32)     36896       re_lu_557[0][0]                  \n",
      "__________________________________________________________________________________________________\n",
      "concatenate_329 (Concatenate)   (None, 4, 4, 256)    0           conv2d_905[0][0]                 \n",
      "                                                                 concatenate_328[0][0]            \n",
      "__________________________________________________________________________________________________\n",
      "batch_normalization_468 (BatchN (None, 4, 4, 256)    1024        concatenate_329[0][0]            \n",
      "__________________________________________________________________________________________________\n",
      "re_lu_558 (ReLU)                (None, 4, 4, 256)    0           batch_normalization_468[0][0]    \n",
      "__________________________________________________________________________________________________\n",
      "conv2d_906 (Conv2D)             (None, 4, 4, 128)    32896       re_lu_558[0][0]                  \n",
      "__________________________________________________________________________________________________\n",
      "batch_normalization_469 (BatchN (None, 4, 4, 128)    512         conv2d_906[0][0]                 \n",
      "__________________________________________________________________________________________________\n",
      "re_lu_559 (ReLU)                (None, 4, 4, 128)    0           batch_normalization_469[0][0]    \n",
      "__________________________________________________________________________________________________\n",
      "conv2d_907 (Conv2D)             (None, 4, 4, 32)     36896       re_lu_559[0][0]                  \n",
      "__________________________________________________________________________________________________\n",
      "concatenate_330 (Concatenate)   (None, 4, 4, 288)    0           conv2d_907[0][0]                 \n",
      "                                                                 concatenate_329[0][0]            \n",
      "__________________________________________________________________________________________________\n",
      "batch_normalization_470 (BatchN (None, 4, 4, 288)    1152        concatenate_330[0][0]            \n",
      "__________________________________________________________________________________________________\n",
      "re_lu_560 (ReLU)                (None, 4, 4, 288)    0           batch_normalization_470[0][0]    \n",
      "__________________________________________________________________________________________________\n",
      "conv2d_908 (Conv2D)             (None, 4, 4, 128)    36992       re_lu_560[0][0]                  \n",
      "__________________________________________________________________________________________________\n",
      "batch_normalization_471 (BatchN (None, 4, 4, 128)    512         conv2d_908[0][0]                 \n",
      "__________________________________________________________________________________________________\n",
      "re_lu_561 (ReLU)                (None, 4, 4, 128)    0           batch_normalization_471[0][0]    \n",
      "__________________________________________________________________________________________________\n",
      "conv2d_909 (Conv2D)             (None, 4, 4, 32)     36896       re_lu_561[0][0]                  \n",
      "__________________________________________________________________________________________________\n",
      "concatenate_331 (Concatenate)   (None, 4, 4, 320)    0           conv2d_909[0][0]                 \n",
      "                                                                 concatenate_330[0][0]            \n",
      "__________________________________________________________________________________________________\n",
      "batch_normalization_472 (BatchN (None, 4, 4, 320)    1280        concatenate_331[0][0]            \n",
      "__________________________________________________________________________________________________\n",
      "re_lu_562 (ReLU)                (None, 4, 4, 320)    0           batch_normalization_472[0][0]    \n",
      "__________________________________________________________________________________________________\n",
      "conv2d_910 (Conv2D)             (None, 4, 4, 128)    41088       re_lu_562[0][0]                  \n",
      "__________________________________________________________________________________________________\n",
      "batch_normalization_473 (BatchN (None, 4, 4, 128)    512         conv2d_910[0][0]                 \n",
      "__________________________________________________________________________________________________\n",
      "re_lu_563 (ReLU)                (None, 4, 4, 128)    0           batch_normalization_473[0][0]    \n",
      "__________________________________________________________________________________________________\n",
      "conv2d_911 (Conv2D)             (None, 4, 4, 32)     36896       re_lu_563[0][0]                  \n",
      "__________________________________________________________________________________________________\n",
      "concatenate_332 (Concatenate)   (None, 4, 4, 352)    0           conv2d_911[0][0]                 \n",
      "                                                                 concatenate_331[0][0]            \n",
      "__________________________________________________________________________________________________\n",
      "batch_normalization_474 (BatchN (None, 4, 4, 352)    1408        concatenate_332[0][0]            \n",
      "__________________________________________________________________________________________________\n",
      "re_lu_564 (ReLU)                (None, 4, 4, 352)    0           batch_normalization_474[0][0]    \n",
      "__________________________________________________________________________________________________\n",
      "conv2d_912 (Conv2D)             (None, 4, 4, 128)    45184       re_lu_564[0][0]                  \n",
      "__________________________________________________________________________________________________\n",
      "batch_normalization_475 (BatchN (None, 4, 4, 128)    512         conv2d_912[0][0]                 \n",
      "__________________________________________________________________________________________________\n",
      "re_lu_565 (ReLU)                (None, 4, 4, 128)    0           batch_normalization_475[0][0]    \n",
      "__________________________________________________________________________________________________\n",
      "conv2d_913 (Conv2D)             (None, 4, 4, 32)     36896       re_lu_565[0][0]                  \n",
      "__________________________________________________________________________________________________\n",
      "concatenate_333 (Concatenate)   (None, 4, 4, 384)    0           conv2d_913[0][0]                 \n",
      "                                                                 concatenate_332[0][0]            \n",
      "__________________________________________________________________________________________________\n",
      "batch_normalization_476 (BatchN (None, 4, 4, 384)    1536        concatenate_333[0][0]            \n",
      "__________________________________________________________________________________________________\n",
      "re_lu_566 (ReLU)                (None, 4, 4, 384)    0           batch_normalization_476[0][0]    \n",
      "__________________________________________________________________________________________________\n",
      "conv2d_914 (Conv2D)             (None, 4, 4, 128)    49280       re_lu_566[0][0]                  \n",
      "__________________________________________________________________________________________________\n",
      "batch_normalization_477 (BatchN (None, 4, 4, 128)    512         conv2d_914[0][0]                 \n",
      "__________________________________________________________________________________________________\n",
      "re_lu_567 (ReLU)                (None, 4, 4, 128)    0           batch_normalization_477[0][0]    \n",
      "__________________________________________________________________________________________________\n",
      "conv2d_915 (Conv2D)             (None, 4, 4, 32)     36896       re_lu_567[0][0]                  \n",
      "__________________________________________________________________________________________________\n",
      "concatenate_334 (Concatenate)   (None, 4, 4, 416)    0           conv2d_915[0][0]                 \n",
      "                                                                 concatenate_333[0][0]            \n",
      "__________________________________________________________________________________________________\n",
      "batch_normalization_478 (BatchN (None, 4, 4, 416)    1664        concatenate_334[0][0]            \n",
      "__________________________________________________________________________________________________\n",
      "re_lu_568 (ReLU)                (None, 4, 4, 416)    0           batch_normalization_478[0][0]    \n",
      "__________________________________________________________________________________________________\n",
      "conv2d_916 (Conv2D)             (None, 4, 4, 128)    53376       re_lu_568[0][0]                  \n",
      "__________________________________________________________________________________________________\n",
      "batch_normalization_479 (BatchN (None, 4, 4, 128)    512         conv2d_916[0][0]                 \n",
      "__________________________________________________________________________________________________\n",
      "re_lu_569 (ReLU)                (None, 4, 4, 128)    0           batch_normalization_479[0][0]    \n",
      "__________________________________________________________________________________________________\n",
      "conv2d_917 (Conv2D)             (None, 4, 4, 32)     36896       re_lu_569[0][0]                  \n",
      "__________________________________________________________________________________________________\n",
      "concatenate_335 (Concatenate)   (None, 4, 4, 448)    0           conv2d_917[0][0]                 \n",
      "                                                                 concatenate_334[0][0]            \n",
      "__________________________________________________________________________________________________\n",
      "batch_normalization_480 (BatchN (None, 4, 4, 448)    1792        concatenate_335[0][0]            \n",
      "__________________________________________________________________________________________________\n",
      "re_lu_570 (ReLU)                (None, 4, 4, 448)    0           batch_normalization_480[0][0]    \n",
      "__________________________________________________________________________________________________\n",
      "conv2d_918 (Conv2D)             (None, 4, 4, 128)    57472       re_lu_570[0][0]                  \n",
      "__________________________________________________________________________________________________\n",
      "batch_normalization_481 (BatchN (None, 4, 4, 128)    512         conv2d_918[0][0]                 \n",
      "__________________________________________________________________________________________________\n",
      "re_lu_571 (ReLU)                (None, 4, 4, 128)    0           batch_normalization_481[0][0]    \n",
      "__________________________________________________________________________________________________\n",
      "conv2d_919 (Conv2D)             (None, 4, 4, 32)     36896       re_lu_571[0][0]                  \n",
      "__________________________________________________________________________________________________\n",
      "concatenate_336 (Concatenate)   (None, 4, 4, 480)    0           conv2d_919[0][0]                 \n",
      "                                                                 concatenate_335[0][0]            \n",
      "__________________________________________________________________________________________________\n",
      "batch_normalization_482 (BatchN (None, 4, 4, 480)    1920        concatenate_336[0][0]            \n",
      "__________________________________________________________________________________________________\n",
      "re_lu_572 (ReLU)                (None, 4, 4, 480)    0           batch_normalization_482[0][0]    \n",
      "__________________________________________________________________________________________________\n",
      "conv2d_920 (Conv2D)             (None, 4, 4, 128)    61568       re_lu_572[0][0]                  \n",
      "__________________________________________________________________________________________________\n",
      "batch_normalization_483 (BatchN (None, 4, 4, 128)    512         conv2d_920[0][0]                 \n",
      "__________________________________________________________________________________________________\n",
      "re_lu_573 (ReLU)                (None, 4, 4, 128)    0           batch_normalization_483[0][0]    \n",
      "__________________________________________________________________________________________________\n",
      "conv2d_921 (Conv2D)             (None, 4, 4, 32)     36896       re_lu_573[0][0]                  \n",
      "__________________________________________________________________________________________________\n",
      "concatenate_337 (Concatenate)   (None, 4, 4, 512)    0           conv2d_921[0][0]                 \n",
      "                                                                 concatenate_336[0][0]            \n",
      "__________________________________________________________________________________________________\n",
      "batch_normalization_484 (BatchN (None, 4, 4, 512)    2048        concatenate_337[0][0]            \n",
      "__________________________________________________________________________________________________\n",
      "re_lu_574 (ReLU)                (None, 4, 4, 512)    0           batch_normalization_484[0][0]    \n",
      "__________________________________________________________________________________________________\n",
      "conv2d_922 (Conv2D)             (None, 4, 4, 256)    131328      re_lu_574[0][0]                  \n",
      "__________________________________________________________________________________________________\n",
      "average_pooling2d_25 (AveragePo (None, 2, 2, 256)    0           conv2d_922[0][0]                 \n",
      "__________________________________________________________________________________________________\n",
      "batch_normalization_485 (BatchN (None, 2, 2, 256)    1024        average_pooling2d_25[0][0]       \n",
      "__________________________________________________________________________________________________\n",
      "re_lu_575 (ReLU)                (None, 2, 2, 256)    0           batch_normalization_485[0][0]    \n",
      "__________________________________________________________________________________________________\n",
      "conv2d_923 (Conv2D)             (None, 2, 2, 128)    32896       re_lu_575[0][0]                  \n",
      "__________________________________________________________________________________________________\n",
      "batch_normalization_486 (BatchN (None, 2, 2, 128)    512         conv2d_923[0][0]                 \n",
      "__________________________________________________________________________________________________\n",
      "re_lu_576 (ReLU)                (None, 2, 2, 128)    0           batch_normalization_486[0][0]    \n",
      "__________________________________________________________________________________________________\n",
      "conv2d_924 (Conv2D)             (None, 2, 2, 32)     36896       re_lu_576[0][0]                  \n",
      "__________________________________________________________________________________________________\n",
      "concatenate_338 (Concatenate)   (None, 2, 2, 288)    0           conv2d_924[0][0]                 \n",
      "                                                                 average_pooling2d_25[0][0]       \n",
      "__________________________________________________________________________________________________\n",
      "batch_normalization_487 (BatchN (None, 2, 2, 288)    1152        concatenate_338[0][0]            \n",
      "__________________________________________________________________________________________________\n",
      "re_lu_577 (ReLU)                (None, 2, 2, 288)    0           batch_normalization_487[0][0]    \n",
      "__________________________________________________________________________________________________\n",
      "conv2d_925 (Conv2D)             (None, 2, 2, 128)    36992       re_lu_577[0][0]                  \n",
      "__________________________________________________________________________________________________\n",
      "batch_normalization_488 (BatchN (None, 2, 2, 128)    512         conv2d_925[0][0]                 \n",
      "__________________________________________________________________________________________________\n",
      "re_lu_578 (ReLU)                (None, 2, 2, 128)    0           batch_normalization_488[0][0]    \n",
      "__________________________________________________________________________________________________\n",
      "conv2d_926 (Conv2D)             (None, 2, 2, 32)     36896       re_lu_578[0][0]                  \n",
      "__________________________________________________________________________________________________\n",
      "concatenate_339 (Concatenate)   (None, 2, 2, 320)    0           conv2d_926[0][0]                 \n",
      "                                                                 concatenate_338[0][0]            \n",
      "__________________________________________________________________________________________________\n",
      "batch_normalization_489 (BatchN (None, 2, 2, 320)    1280        concatenate_339[0][0]            \n",
      "__________________________________________________________________________________________________\n",
      "re_lu_579 (ReLU)                (None, 2, 2, 320)    0           batch_normalization_489[0][0]    \n",
      "__________________________________________________________________________________________________\n",
      "conv2d_927 (Conv2D)             (None, 2, 2, 128)    41088       re_lu_579[0][0]                  \n",
      "__________________________________________________________________________________________________\n",
      "batch_normalization_490 (BatchN (None, 2, 2, 128)    512         conv2d_927[0][0]                 \n",
      "__________________________________________________________________________________________________\n",
      "re_lu_580 (ReLU)                (None, 2, 2, 128)    0           batch_normalization_490[0][0]    \n",
      "__________________________________________________________________________________________________\n",
      "conv2d_928 (Conv2D)             (None, 2, 2, 32)     36896       re_lu_580[0][0]                  \n",
      "__________________________________________________________________________________________________\n",
      "concatenate_340 (Concatenate)   (None, 2, 2, 352)    0           conv2d_928[0][0]                 \n",
      "                                                                 concatenate_339[0][0]            \n",
      "__________________________________________________________________________________________________\n",
      "batch_normalization_491 (BatchN (None, 2, 2, 352)    1408        concatenate_340[0][0]            \n",
      "__________________________________________________________________________________________________\n",
      "re_lu_581 (ReLU)                (None, 2, 2, 352)    0           batch_normalization_491[0][0]    \n",
      "__________________________________________________________________________________________________\n",
      "conv2d_929 (Conv2D)             (None, 2, 2, 128)    45184       re_lu_581[0][0]                  \n",
      "__________________________________________________________________________________________________\n",
      "batch_normalization_492 (BatchN (None, 2, 2, 128)    512         conv2d_929[0][0]                 \n",
      "__________________________________________________________________________________________________\n",
      "re_lu_582 (ReLU)                (None, 2, 2, 128)    0           batch_normalization_492[0][0]    \n",
      "__________________________________________________________________________________________________\n",
      "conv2d_930 (Conv2D)             (None, 2, 2, 32)     36896       re_lu_582[0][0]                  \n",
      "__________________________________________________________________________________________________\n",
      "concatenate_341 (Concatenate)   (None, 2, 2, 384)    0           conv2d_930[0][0]                 \n",
      "                                                                 concatenate_340[0][0]            \n",
      "__________________________________________________________________________________________________\n",
      "batch_normalization_493 (BatchN (None, 2, 2, 384)    1536        concatenate_341[0][0]            \n",
      "__________________________________________________________________________________________________\n",
      "re_lu_583 (ReLU)                (None, 2, 2, 384)    0           batch_normalization_493[0][0]    \n",
      "__________________________________________________________________________________________________\n",
      "conv2d_931 (Conv2D)             (None, 2, 2, 128)    49280       re_lu_583[0][0]                  \n",
      "__________________________________________________________________________________________________\n",
      "batch_normalization_494 (BatchN (None, 2, 2, 128)    512         conv2d_931[0][0]                 \n",
      "__________________________________________________________________________________________________\n",
      "re_lu_584 (ReLU)                (None, 2, 2, 128)    0           batch_normalization_494[0][0]    \n",
      "__________________________________________________________________________________________________\n",
      "conv2d_932 (Conv2D)             (None, 2, 2, 32)     36896       re_lu_584[0][0]                  \n",
      "__________________________________________________________________________________________________\n",
      "concatenate_342 (Concatenate)   (None, 2, 2, 416)    0           conv2d_932[0][0]                 \n",
      "                                                                 concatenate_341[0][0]            \n",
      "__________________________________________________________________________________________________\n",
      "batch_normalization_495 (BatchN (None, 2, 2, 416)    1664        concatenate_342[0][0]            \n",
      "__________________________________________________________________________________________________\n",
      "re_lu_585 (ReLU)                (None, 2, 2, 416)    0           batch_normalization_495[0][0]    \n",
      "__________________________________________________________________________________________________\n",
      "conv2d_933 (Conv2D)             (None, 2, 2, 128)    53376       re_lu_585[0][0]                  \n",
      "__________________________________________________________________________________________________\n",
      "batch_normalization_496 (BatchN (None, 2, 2, 128)    512         conv2d_933[0][0]                 \n",
      "__________________________________________________________________________________________________\n",
      "re_lu_586 (ReLU)                (None, 2, 2, 128)    0           batch_normalization_496[0][0]    \n",
      "__________________________________________________________________________________________________\n",
      "conv2d_934 (Conv2D)             (None, 2, 2, 32)     36896       re_lu_586[0][0]                  \n",
      "__________________________________________________________________________________________________\n",
      "concatenate_343 (Concatenate)   (None, 2, 2, 448)    0           conv2d_934[0][0]                 \n",
      "                                                                 concatenate_342[0][0]            \n",
      "__________________________________________________________________________________________________\n",
      "batch_normalization_497 (BatchN (None, 2, 2, 448)    1792        concatenate_343[0][0]            \n",
      "__________________________________________________________________________________________________\n",
      "re_lu_587 (ReLU)                (None, 2, 2, 448)    0           batch_normalization_497[0][0]    \n",
      "__________________________________________________________________________________________________\n",
      "conv2d_935 (Conv2D)             (None, 2, 2, 128)    57472       re_lu_587[0][0]                  \n",
      "__________________________________________________________________________________________________\n",
      "batch_normalization_498 (BatchN (None, 2, 2, 128)    512         conv2d_935[0][0]                 \n",
      "__________________________________________________________________________________________________\n",
      "re_lu_588 (ReLU)                (None, 2, 2, 128)    0           batch_normalization_498[0][0]    \n",
      "__________________________________________________________________________________________________\n",
      "conv2d_936 (Conv2D)             (None, 2, 2, 32)     36896       re_lu_588[0][0]                  \n",
      "__________________________________________________________________________________________________\n",
      "concatenate_344 (Concatenate)   (None, 2, 2, 480)    0           conv2d_936[0][0]                 \n",
      "                                                                 concatenate_343[0][0]            \n",
      "__________________________________________________________________________________________________\n",
      "batch_normalization_499 (BatchN (None, 2, 2, 480)    1920        concatenate_344[0][0]            \n",
      "__________________________________________________________________________________________________\n",
      "re_lu_589 (ReLU)                (None, 2, 2, 480)    0           batch_normalization_499[0][0]    \n",
      "__________________________________________________________________________________________________\n",
      "conv2d_937 (Conv2D)             (None, 2, 2, 128)    61568       re_lu_589[0][0]                  \n",
      "__________________________________________________________________________________________________\n",
      "batch_normalization_500 (BatchN (None, 2, 2, 128)    512         conv2d_937[0][0]                 \n",
      "__________________________________________________________________________________________________\n",
      "re_lu_590 (ReLU)                (None, 2, 2, 128)    0           batch_normalization_500[0][0]    \n",
      "__________________________________________________________________________________________________\n",
      "conv2d_938 (Conv2D)             (None, 2, 2, 32)     36896       re_lu_590[0][0]                  \n",
      "__________________________________________________________________________________________________\n",
      "concatenate_345 (Concatenate)   (None, 2, 2, 512)    0           conv2d_938[0][0]                 \n",
      "                                                                 concatenate_344[0][0]            \n",
      "__________________________________________________________________________________________________\n",
      "batch_normalization_501 (BatchN (None, 2, 2, 512)    2048        concatenate_345[0][0]            \n",
      "__________________________________________________________________________________________________\n",
      "re_lu_591 (ReLU)                (None, 2, 2, 512)    0           batch_normalization_501[0][0]    \n",
      "__________________________________________________________________________________________________\n",
      "conv2d_939 (Conv2D)             (None, 2, 2, 128)    65664       re_lu_591[0][0]                  \n",
      "__________________________________________________________________________________________________\n",
      "batch_normalization_502 (BatchN (None, 2, 2, 128)    512         conv2d_939[0][0]                 \n",
      "__________________________________________________________________________________________________\n",
      "re_lu_592 (ReLU)                (None, 2, 2, 128)    0           batch_normalization_502[0][0]    \n",
      "__________________________________________________________________________________________________\n",
      "conv2d_940 (Conv2D)             (None, 2, 2, 32)     36896       re_lu_592[0][0]                  \n",
      "__________________________________________________________________________________________________\n",
      "concatenate_346 (Concatenate)   (None, 2, 2, 544)    0           conv2d_940[0][0]                 \n",
      "                                                                 concatenate_345[0][0]            \n",
      "__________________________________________________________________________________________________\n",
      "batch_normalization_503 (BatchN (None, 2, 2, 544)    2176        concatenate_346[0][0]            \n",
      "__________________________________________________________________________________________________\n",
      "re_lu_593 (ReLU)                (None, 2, 2, 544)    0           batch_normalization_503[0][0]    \n",
      "__________________________________________________________________________________________________\n",
      "conv2d_941 (Conv2D)             (None, 2, 2, 128)    69760       re_lu_593[0][0]                  \n",
      "__________________________________________________________________________________________________\n",
      "batch_normalization_504 (BatchN (None, 2, 2, 128)    512         conv2d_941[0][0]                 \n",
      "__________________________________________________________________________________________________\n",
      "re_lu_594 (ReLU)                (None, 2, 2, 128)    0           batch_normalization_504[0][0]    \n",
      "__________________________________________________________________________________________________\n",
      "conv2d_942 (Conv2D)             (None, 2, 2, 32)     36896       re_lu_594[0][0]                  \n",
      "__________________________________________________________________________________________________\n",
      "concatenate_347 (Concatenate)   (None, 2, 2, 576)    0           conv2d_942[0][0]                 \n",
      "                                                                 concatenate_346[0][0]            \n",
      "__________________________________________________________________________________________________\n",
      "batch_normalization_505 (BatchN (None, 2, 2, 576)    2304        concatenate_347[0][0]            \n",
      "__________________________________________________________________________________________________\n",
      "re_lu_595 (ReLU)                (None, 2, 2, 576)    0           batch_normalization_505[0][0]    \n",
      "__________________________________________________________________________________________________\n",
      "conv2d_943 (Conv2D)             (None, 2, 2, 128)    73856       re_lu_595[0][0]                  \n",
      "__________________________________________________________________________________________________\n",
      "batch_normalization_506 (BatchN (None, 2, 2, 128)    512         conv2d_943[0][0]                 \n",
      "__________________________________________________________________________________________________\n",
      "re_lu_596 (ReLU)                (None, 2, 2, 128)    0           batch_normalization_506[0][0]    \n",
      "__________________________________________________________________________________________________\n",
      "conv2d_944 (Conv2D)             (None, 2, 2, 32)     36896       re_lu_596[0][0]                  \n",
      "__________________________________________________________________________________________________\n",
      "concatenate_348 (Concatenate)   (None, 2, 2, 608)    0           conv2d_944[0][0]                 \n",
      "                                                                 concatenate_347[0][0]            \n",
      "__________________________________________________________________________________________________\n",
      "batch_normalization_507 (BatchN (None, 2, 2, 608)    2432        concatenate_348[0][0]            \n",
      "__________________________________________________________________________________________________\n",
      "re_lu_597 (ReLU)                (None, 2, 2, 608)    0           batch_normalization_507[0][0]    \n",
      "__________________________________________________________________________________________________\n",
      "conv2d_945 (Conv2D)             (None, 2, 2, 128)    77952       re_lu_597[0][0]                  \n",
      "__________________________________________________________________________________________________\n",
      "batch_normalization_508 (BatchN (None, 2, 2, 128)    512         conv2d_945[0][0]                 \n",
      "__________________________________________________________________________________________________\n",
      "re_lu_598 (ReLU)                (None, 2, 2, 128)    0           batch_normalization_508[0][0]    \n",
      "__________________________________________________________________________________________________\n",
      "conv2d_946 (Conv2D)             (None, 2, 2, 32)     36896       re_lu_598[0][0]                  \n",
      "__________________________________________________________________________________________________\n",
      "concatenate_349 (Concatenate)   (None, 2, 2, 640)    0           conv2d_946[0][0]                 \n",
      "                                                                 concatenate_348[0][0]            \n",
      "__________________________________________________________________________________________________\n",
      "batch_normalization_509 (BatchN (None, 2, 2, 640)    2560        concatenate_349[0][0]            \n",
      "__________________________________________________________________________________________________\n",
      "re_lu_599 (ReLU)                (None, 2, 2, 640)    0           batch_normalization_509[0][0]    \n",
      "__________________________________________________________________________________________________\n",
      "conv2d_947 (Conv2D)             (None, 2, 2, 128)    82048       re_lu_599[0][0]                  \n",
      "__________________________________________________________________________________________________\n",
      "batch_normalization_510 (BatchN (None, 2, 2, 128)    512         conv2d_947[0][0]                 \n",
      "__________________________________________________________________________________________________\n",
      "re_lu_600 (ReLU)                (None, 2, 2, 128)    0           batch_normalization_510[0][0]    \n",
      "__________________________________________________________________________________________________\n",
      "conv2d_948 (Conv2D)             (None, 2, 2, 32)     36896       re_lu_600[0][0]                  \n",
      "__________________________________________________________________________________________________\n",
      "concatenate_350 (Concatenate)   (None, 2, 2, 672)    0           conv2d_948[0][0]                 \n",
      "                                                                 concatenate_349[0][0]            \n",
      "__________________________________________________________________________________________________\n",
      "batch_normalization_511 (BatchN (None, 2, 2, 672)    2688        concatenate_350[0][0]            \n",
      "__________________________________________________________________________________________________\n",
      "re_lu_601 (ReLU)                (None, 2, 2, 672)    0           batch_normalization_511[0][0]    \n",
      "__________________________________________________________________________________________________\n",
      "conv2d_949 (Conv2D)             (None, 2, 2, 128)    86144       re_lu_601[0][0]                  \n",
      "__________________________________________________________________________________________________\n",
      "batch_normalization_512 (BatchN (None, 2, 2, 128)    512         conv2d_949[0][0]                 \n",
      "__________________________________________________________________________________________________\n",
      "re_lu_602 (ReLU)                (None, 2, 2, 128)    0           batch_normalization_512[0][0]    \n",
      "__________________________________________________________________________________________________\n",
      "conv2d_950 (Conv2D)             (None, 2, 2, 32)     36896       re_lu_602[0][0]                  \n",
      "__________________________________________________________________________________________________\n",
      "concatenate_351 (Concatenate)   (None, 2, 2, 704)    0           conv2d_950[0][0]                 \n",
      "                                                                 concatenate_350[0][0]            \n",
      "__________________________________________________________________________________________________\n",
      "batch_normalization_513 (BatchN (None, 2, 2, 704)    2816        concatenate_351[0][0]            \n",
      "__________________________________________________________________________________________________\n",
      "re_lu_603 (ReLU)                (None, 2, 2, 704)    0           batch_normalization_513[0][0]    \n",
      "__________________________________________________________________________________________________\n",
      "conv2d_951 (Conv2D)             (None, 2, 2, 128)    90240       re_lu_603[0][0]                  \n",
      "__________________________________________________________________________________________________\n",
      "batch_normalization_514 (BatchN (None, 2, 2, 128)    512         conv2d_951[0][0]                 \n",
      "__________________________________________________________________________________________________\n",
      "re_lu_604 (ReLU)                (None, 2, 2, 128)    0           batch_normalization_514[0][0]    \n",
      "__________________________________________________________________________________________________\n",
      "conv2d_952 (Conv2D)             (None, 2, 2, 32)     36896       re_lu_604[0][0]                  \n",
      "__________________________________________________________________________________________________\n",
      "concatenate_352 (Concatenate)   (None, 2, 2, 736)    0           conv2d_952[0][0]                 \n",
      "                                                                 concatenate_351[0][0]            \n",
      "__________________________________________________________________________________________________\n",
      "batch_normalization_515 (BatchN (None, 2, 2, 736)    2944        concatenate_352[0][0]            \n",
      "__________________________________________________________________________________________________\n",
      "re_lu_605 (ReLU)                (None, 2, 2, 736)    0           batch_normalization_515[0][0]    \n",
      "__________________________________________________________________________________________________\n",
      "conv2d_953 (Conv2D)             (None, 2, 2, 128)    94336       re_lu_605[0][0]                  \n",
      "__________________________________________________________________________________________________\n",
      "batch_normalization_516 (BatchN (None, 2, 2, 128)    512         conv2d_953[0][0]                 \n",
      "__________________________________________________________________________________________________\n",
      "re_lu_606 (ReLU)                (None, 2, 2, 128)    0           batch_normalization_516[0][0]    \n",
      "__________________________________________________________________________________________________\n",
      "conv2d_954 (Conv2D)             (None, 2, 2, 32)     36896       re_lu_606[0][0]                  \n",
      "__________________________________________________________________________________________________\n",
      "concatenate_353 (Concatenate)   (None, 2, 2, 768)    0           conv2d_954[0][0]                 \n",
      "                                                                 concatenate_352[0][0]            \n",
      "__________________________________________________________________________________________________\n",
      "batch_normalization_517 (BatchN (None, 2, 2, 768)    3072        concatenate_353[0][0]            \n",
      "__________________________________________________________________________________________________\n",
      "re_lu_607 (ReLU)                (None, 2, 2, 768)    0           batch_normalization_517[0][0]    \n",
      "__________________________________________________________________________________________________\n",
      "conv2d_955 (Conv2D)             (None, 2, 2, 128)    98432       re_lu_607[0][0]                  \n",
      "__________________________________________________________________________________________________\n",
      "batch_normalization_518 (BatchN (None, 2, 2, 128)    512         conv2d_955[0][0]                 \n",
      "__________________________________________________________________________________________________\n",
      "re_lu_608 (ReLU)                (None, 2, 2, 128)    0           batch_normalization_518[0][0]    \n",
      "__________________________________________________________________________________________________\n",
      "conv2d_956 (Conv2D)             (None, 2, 2, 32)     36896       re_lu_608[0][0]                  \n",
      "__________________________________________________________________________________________________\n",
      "concatenate_354 (Concatenate)   (None, 2, 2, 800)    0           conv2d_956[0][0]                 \n",
      "                                                                 concatenate_353[0][0]            \n",
      "__________________________________________________________________________________________________\n",
      "batch_normalization_519 (BatchN (None, 2, 2, 800)    3200        concatenate_354[0][0]            \n",
      "__________________________________________________________________________________________________\n",
      "re_lu_609 (ReLU)                (None, 2, 2, 800)    0           batch_normalization_519[0][0]    \n",
      "__________________________________________________________________________________________________\n",
      "conv2d_957 (Conv2D)             (None, 2, 2, 128)    102528      re_lu_609[0][0]                  \n",
      "__________________________________________________________________________________________________\n",
      "batch_normalization_520 (BatchN (None, 2, 2, 128)    512         conv2d_957[0][0]                 \n",
      "__________________________________________________________________________________________________\n",
      "re_lu_610 (ReLU)                (None, 2, 2, 128)    0           batch_normalization_520[0][0]    \n",
      "__________________________________________________________________________________________________\n",
      "conv2d_958 (Conv2D)             (None, 2, 2, 32)     36896       re_lu_610[0][0]                  \n",
      "__________________________________________________________________________________________________\n",
      "concatenate_355 (Concatenate)   (None, 2, 2, 832)    0           conv2d_958[0][0]                 \n",
      "                                                                 concatenate_354[0][0]            \n",
      "__________________________________________________________________________________________________\n",
      "batch_normalization_521 (BatchN (None, 2, 2, 832)    3328        concatenate_355[0][0]            \n",
      "__________________________________________________________________________________________________\n",
      "re_lu_611 (ReLU)                (None, 2, 2, 832)    0           batch_normalization_521[0][0]    \n",
      "__________________________________________________________________________________________________\n",
      "conv2d_959 (Conv2D)             (None, 2, 2, 128)    106624      re_lu_611[0][0]                  \n",
      "__________________________________________________________________________________________________\n",
      "batch_normalization_522 (BatchN (None, 2, 2, 128)    512         conv2d_959[0][0]                 \n",
      "__________________________________________________________________________________________________\n",
      "re_lu_612 (ReLU)                (None, 2, 2, 128)    0           batch_normalization_522[0][0]    \n",
      "__________________________________________________________________________________________________\n",
      "conv2d_960 (Conv2D)             (None, 2, 2, 32)     36896       re_lu_612[0][0]                  \n",
      "__________________________________________________________________________________________________\n",
      "concatenate_356 (Concatenate)   (None, 2, 2, 864)    0           conv2d_960[0][0]                 \n",
      "                                                                 concatenate_355[0][0]            \n",
      "__________________________________________________________________________________________________\n",
      "batch_normalization_523 (BatchN (None, 2, 2, 864)    3456        concatenate_356[0][0]            \n",
      "__________________________________________________________________________________________________\n",
      "re_lu_613 (ReLU)                (None, 2, 2, 864)    0           batch_normalization_523[0][0]    \n",
      "__________________________________________________________________________________________________\n",
      "conv2d_961 (Conv2D)             (None, 2, 2, 128)    110720      re_lu_613[0][0]                  \n",
      "__________________________________________________________________________________________________\n",
      "batch_normalization_524 (BatchN (None, 2, 2, 128)    512         conv2d_961[0][0]                 \n",
      "__________________________________________________________________________________________________\n",
      "re_lu_614 (ReLU)                (None, 2, 2, 128)    0           batch_normalization_524[0][0]    \n",
      "__________________________________________________________________________________________________\n",
      "conv2d_962 (Conv2D)             (None, 2, 2, 32)     36896       re_lu_614[0][0]                  \n",
      "__________________________________________________________________________________________________\n",
      "concatenate_357 (Concatenate)   (None, 2, 2, 896)    0           conv2d_962[0][0]                 \n",
      "                                                                 concatenate_356[0][0]            \n",
      "__________________________________________________________________________________________________\n",
      "batch_normalization_525 (BatchN (None, 2, 2, 896)    3584        concatenate_357[0][0]            \n",
      "__________________________________________________________________________________________________\n",
      "re_lu_615 (ReLU)                (None, 2, 2, 896)    0           batch_normalization_525[0][0]    \n",
      "__________________________________________________________________________________________________\n",
      "conv2d_963 (Conv2D)             (None, 2, 2, 128)    114816      re_lu_615[0][0]                  \n",
      "__________________________________________________________________________________________________\n",
      "batch_normalization_526 (BatchN (None, 2, 2, 128)    512         conv2d_963[0][0]                 \n",
      "__________________________________________________________________________________________________\n",
      "re_lu_616 (ReLU)                (None, 2, 2, 128)    0           batch_normalization_526[0][0]    \n",
      "__________________________________________________________________________________________________\n",
      "conv2d_964 (Conv2D)             (None, 2, 2, 32)     36896       re_lu_616[0][0]                  \n",
      "__________________________________________________________________________________________________\n",
      "concatenate_358 (Concatenate)   (None, 2, 2, 928)    0           conv2d_964[0][0]                 \n",
      "                                                                 concatenate_357[0][0]            \n",
      "__________________________________________________________________________________________________\n",
      "batch_normalization_527 (BatchN (None, 2, 2, 928)    3712        concatenate_358[0][0]            \n",
      "__________________________________________________________________________________________________\n",
      "re_lu_617 (ReLU)                (None, 2, 2, 928)    0           batch_normalization_527[0][0]    \n",
      "__________________________________________________________________________________________________\n",
      "conv2d_965 (Conv2D)             (None, 2, 2, 128)    118912      re_lu_617[0][0]                  \n",
      "__________________________________________________________________________________________________\n",
      "batch_normalization_528 (BatchN (None, 2, 2, 128)    512         conv2d_965[0][0]                 \n",
      "__________________________________________________________________________________________________\n",
      "re_lu_618 (ReLU)                (None, 2, 2, 128)    0           batch_normalization_528[0][0]    \n",
      "__________________________________________________________________________________________________\n",
      "conv2d_966 (Conv2D)             (None, 2, 2, 32)     36896       re_lu_618[0][0]                  \n",
      "__________________________________________________________________________________________________\n",
      "concatenate_359 (Concatenate)   (None, 2, 2, 960)    0           conv2d_966[0][0]                 \n",
      "                                                                 concatenate_358[0][0]            \n",
      "__________________________________________________________________________________________________\n",
      "batch_normalization_529 (BatchN (None, 2, 2, 960)    3840        concatenate_359[0][0]            \n",
      "__________________________________________________________________________________________________\n",
      "re_lu_619 (ReLU)                (None, 2, 2, 960)    0           batch_normalization_529[0][0]    \n",
      "__________________________________________________________________________________________________\n",
      "conv2d_967 (Conv2D)             (None, 2, 2, 128)    123008      re_lu_619[0][0]                  \n",
      "__________________________________________________________________________________________________\n",
      "batch_normalization_530 (BatchN (None, 2, 2, 128)    512         conv2d_967[0][0]                 \n",
      "__________________________________________________________________________________________________\n",
      "re_lu_620 (ReLU)                (None, 2, 2, 128)    0           batch_normalization_530[0][0]    \n",
      "__________________________________________________________________________________________________\n",
      "conv2d_968 (Conv2D)             (None, 2, 2, 32)     36896       re_lu_620[0][0]                  \n",
      "__________________________________________________________________________________________________\n",
      "concatenate_360 (Concatenate)   (None, 2, 2, 992)    0           conv2d_968[0][0]                 \n",
      "                                                                 concatenate_359[0][0]            \n",
      "__________________________________________________________________________________________________\n",
      "batch_normalization_531 (BatchN (None, 2, 2, 992)    3968        concatenate_360[0][0]            \n",
      "__________________________________________________________________________________________________\n",
      "re_lu_621 (ReLU)                (None, 2, 2, 992)    0           batch_normalization_531[0][0]    \n",
      "__________________________________________________________________________________________________\n",
      "conv2d_969 (Conv2D)             (None, 2, 2, 128)    127104      re_lu_621[0][0]                  \n",
      "__________________________________________________________________________________________________\n",
      "batch_normalization_532 (BatchN (None, 2, 2, 128)    512         conv2d_969[0][0]                 \n",
      "__________________________________________________________________________________________________\n",
      "re_lu_622 (ReLU)                (None, 2, 2, 128)    0           batch_normalization_532[0][0]    \n",
      "__________________________________________________________________________________________________\n",
      "conv2d_970 (Conv2D)             (None, 2, 2, 32)     36896       re_lu_622[0][0]                  \n",
      "__________________________________________________________________________________________________\n",
      "concatenate_361 (Concatenate)   (None, 2, 2, 1024)   0           conv2d_970[0][0]                 \n",
      "                                                                 concatenate_360[0][0]            \n",
      "__________________________________________________________________________________________________\n",
      "batch_normalization_533 (BatchN (None, 2, 2, 1024)   4096        concatenate_361[0][0]            \n",
      "__________________________________________________________________________________________________\n",
      "re_lu_623 (ReLU)                (None, 2, 2, 1024)   0           batch_normalization_533[0][0]    \n",
      "__________________________________________________________________________________________________\n",
      "conv2d_971 (Conv2D)             (None, 2, 2, 512)    524800      re_lu_623[0][0]                  \n",
      "__________________________________________________________________________________________________\n",
      "average_pooling2d_26 (AveragePo (None, 1, 1, 512)    0           conv2d_971[0][0]                 \n",
      "__________________________________________________________________________________________________\n",
      "batch_normalization_534 (BatchN (None, 1, 1, 512)    2048        average_pooling2d_26[0][0]       \n",
      "__________________________________________________________________________________________________\n",
      "re_lu_624 (ReLU)                (None, 1, 1, 512)    0           batch_normalization_534[0][0]    \n",
      "__________________________________________________________________________________________________\n",
      "conv2d_972 (Conv2D)             (None, 1, 1, 128)    65664       re_lu_624[0][0]                  \n",
      "__________________________________________________________________________________________________\n",
      "batch_normalization_535 (BatchN (None, 1, 1, 128)    512         conv2d_972[0][0]                 \n",
      "__________________________________________________________________________________________________\n",
      "re_lu_625 (ReLU)                (None, 1, 1, 128)    0           batch_normalization_535[0][0]    \n",
      "__________________________________________________________________________________________________\n",
      "conv2d_973 (Conv2D)             (None, 1, 1, 32)     36896       re_lu_625[0][0]                  \n",
      "__________________________________________________________________________________________________\n",
      "concatenate_362 (Concatenate)   (None, 1, 1, 544)    0           conv2d_973[0][0]                 \n",
      "                                                                 average_pooling2d_26[0][0]       \n",
      "__________________________________________________________________________________________________\n",
      "batch_normalization_536 (BatchN (None, 1, 1, 544)    2176        concatenate_362[0][0]            \n",
      "__________________________________________________________________________________________________\n",
      "re_lu_626 (ReLU)                (None, 1, 1, 544)    0           batch_normalization_536[0][0]    \n",
      "__________________________________________________________________________________________________\n",
      "conv2d_974 (Conv2D)             (None, 1, 1, 128)    69760       re_lu_626[0][0]                  \n",
      "__________________________________________________________________________________________________\n",
      "batch_normalization_537 (BatchN (None, 1, 1, 128)    512         conv2d_974[0][0]                 \n",
      "__________________________________________________________________________________________________\n",
      "re_lu_627 (ReLU)                (None, 1, 1, 128)    0           batch_normalization_537[0][0]    \n",
      "__________________________________________________________________________________________________\n",
      "conv2d_975 (Conv2D)             (None, 1, 1, 32)     36896       re_lu_627[0][0]                  \n",
      "__________________________________________________________________________________________________\n",
      "concatenate_363 (Concatenate)   (None, 1, 1, 576)    0           conv2d_975[0][0]                 \n",
      "                                                                 concatenate_362[0][0]            \n",
      "__________________________________________________________________________________________________\n",
      "batch_normalization_538 (BatchN (None, 1, 1, 576)    2304        concatenate_363[0][0]            \n",
      "__________________________________________________________________________________________________\n",
      "re_lu_628 (ReLU)                (None, 1, 1, 576)    0           batch_normalization_538[0][0]    \n",
      "__________________________________________________________________________________________________\n",
      "conv2d_976 (Conv2D)             (None, 1, 1, 128)    73856       re_lu_628[0][0]                  \n",
      "__________________________________________________________________________________________________\n",
      "batch_normalization_539 (BatchN (None, 1, 1, 128)    512         conv2d_976[0][0]                 \n",
      "__________________________________________________________________________________________________\n",
      "re_lu_629 (ReLU)                (None, 1, 1, 128)    0           batch_normalization_539[0][0]    \n",
      "__________________________________________________________________________________________________\n",
      "conv2d_977 (Conv2D)             (None, 1, 1, 32)     36896       re_lu_629[0][0]                  \n",
      "__________________________________________________________________________________________________\n",
      "concatenate_364 (Concatenate)   (None, 1, 1, 608)    0           conv2d_977[0][0]                 \n",
      "                                                                 concatenate_363[0][0]            \n",
      "__________________________________________________________________________________________________\n",
      "batch_normalization_540 (BatchN (None, 1, 1, 608)    2432        concatenate_364[0][0]            \n",
      "__________________________________________________________________________________________________\n",
      "re_lu_630 (ReLU)                (None, 1, 1, 608)    0           batch_normalization_540[0][0]    \n",
      "__________________________________________________________________________________________________\n",
      "conv2d_978 (Conv2D)             (None, 1, 1, 128)    77952       re_lu_630[0][0]                  \n",
      "__________________________________________________________________________________________________\n",
      "batch_normalization_541 (BatchN (None, 1, 1, 128)    512         conv2d_978[0][0]                 \n",
      "__________________________________________________________________________________________________\n",
      "re_lu_631 (ReLU)                (None, 1, 1, 128)    0           batch_normalization_541[0][0]    \n",
      "__________________________________________________________________________________________________\n",
      "conv2d_979 (Conv2D)             (None, 1, 1, 32)     36896       re_lu_631[0][0]                  \n",
      "__________________________________________________________________________________________________\n",
      "concatenate_365 (Concatenate)   (None, 1, 1, 640)    0           conv2d_979[0][0]                 \n",
      "                                                                 concatenate_364[0][0]            \n",
      "__________________________________________________________________________________________________\n",
      "batch_normalization_542 (BatchN (None, 1, 1, 640)    2560        concatenate_365[0][0]            \n",
      "__________________________________________________________________________________________________\n",
      "re_lu_632 (ReLU)                (None, 1, 1, 640)    0           batch_normalization_542[0][0]    \n",
      "__________________________________________________________________________________________________\n",
      "conv2d_980 (Conv2D)             (None, 1, 1, 128)    82048       re_lu_632[0][0]                  \n",
      "__________________________________________________________________________________________________\n",
      "batch_normalization_543 (BatchN (None, 1, 1, 128)    512         conv2d_980[0][0]                 \n",
      "__________________________________________________________________________________________________\n",
      "re_lu_633 (ReLU)                (None, 1, 1, 128)    0           batch_normalization_543[0][0]    \n",
      "__________________________________________________________________________________________________\n",
      "conv2d_981 (Conv2D)             (None, 1, 1, 32)     36896       re_lu_633[0][0]                  \n",
      "__________________________________________________________________________________________________\n",
      "concatenate_366 (Concatenate)   (None, 1, 1, 672)    0           conv2d_981[0][0]                 \n",
      "                                                                 concatenate_365[0][0]            \n",
      "__________________________________________________________________________________________________\n",
      "batch_normalization_544 (BatchN (None, 1, 1, 672)    2688        concatenate_366[0][0]            \n",
      "__________________________________________________________________________________________________\n",
      "re_lu_634 (ReLU)                (None, 1, 1, 672)    0           batch_normalization_544[0][0]    \n",
      "__________________________________________________________________________________________________\n",
      "conv2d_982 (Conv2D)             (None, 1, 1, 128)    86144       re_lu_634[0][0]                  \n",
      "__________________________________________________________________________________________________\n",
      "batch_normalization_545 (BatchN (None, 1, 1, 128)    512         conv2d_982[0][0]                 \n",
      "__________________________________________________________________________________________________\n",
      "re_lu_635 (ReLU)                (None, 1, 1, 128)    0           batch_normalization_545[0][0]    \n",
      "__________________________________________________________________________________________________\n",
      "conv2d_983 (Conv2D)             (None, 1, 1, 32)     36896       re_lu_635[0][0]                  \n",
      "__________________________________________________________________________________________________\n",
      "concatenate_367 (Concatenate)   (None, 1, 1, 704)    0           conv2d_983[0][0]                 \n",
      "                                                                 concatenate_366[0][0]            \n",
      "__________________________________________________________________________________________________\n",
      "batch_normalization_546 (BatchN (None, 1, 1, 704)    2816        concatenate_367[0][0]            \n",
      "__________________________________________________________________________________________________\n",
      "re_lu_636 (ReLU)                (None, 1, 1, 704)    0           batch_normalization_546[0][0]    \n",
      "__________________________________________________________________________________________________\n",
      "conv2d_984 (Conv2D)             (None, 1, 1, 128)    90240       re_lu_636[0][0]                  \n",
      "__________________________________________________________________________________________________\n",
      "batch_normalization_547 (BatchN (None, 1, 1, 128)    512         conv2d_984[0][0]                 \n",
      "__________________________________________________________________________________________________\n",
      "re_lu_637 (ReLU)                (None, 1, 1, 128)    0           batch_normalization_547[0][0]    \n",
      "__________________________________________________________________________________________________\n",
      "conv2d_985 (Conv2D)             (None, 1, 1, 32)     36896       re_lu_637[0][0]                  \n",
      "__________________________________________________________________________________________________\n",
      "concatenate_368 (Concatenate)   (None, 1, 1, 736)    0           conv2d_985[0][0]                 \n",
      "                                                                 concatenate_367[0][0]            \n",
      "__________________________________________________________________________________________________\n",
      "batch_normalization_548 (BatchN (None, 1, 1, 736)    2944        concatenate_368[0][0]            \n",
      "__________________________________________________________________________________________________\n",
      "re_lu_638 (ReLU)                (None, 1, 1, 736)    0           batch_normalization_548[0][0]    \n",
      "__________________________________________________________________________________________________\n",
      "conv2d_986 (Conv2D)             (None, 1, 1, 128)    94336       re_lu_638[0][0]                  \n",
      "__________________________________________________________________________________________________\n",
      "batch_normalization_549 (BatchN (None, 1, 1, 128)    512         conv2d_986[0][0]                 \n",
      "__________________________________________________________________________________________________\n",
      "re_lu_639 (ReLU)                (None, 1, 1, 128)    0           batch_normalization_549[0][0]    \n",
      "__________________________________________________________________________________________________\n",
      "conv2d_987 (Conv2D)             (None, 1, 1, 32)     36896       re_lu_639[0][0]                  \n",
      "__________________________________________________________________________________________________\n",
      "concatenate_369 (Concatenate)   (None, 1, 1, 768)    0           conv2d_987[0][0]                 \n",
      "                                                                 concatenate_368[0][0]            \n",
      "__________________________________________________________________________________________________\n",
      "batch_normalization_550 (BatchN (None, 1, 1, 768)    3072        concatenate_369[0][0]            \n",
      "__________________________________________________________________________________________________\n",
      "re_lu_640 (ReLU)                (None, 1, 1, 768)    0           batch_normalization_550[0][0]    \n",
      "__________________________________________________________________________________________________\n",
      "conv2d_988 (Conv2D)             (None, 1, 1, 128)    98432       re_lu_640[0][0]                  \n",
      "__________________________________________________________________________________________________\n",
      "batch_normalization_551 (BatchN (None, 1, 1, 128)    512         conv2d_988[0][0]                 \n",
      "__________________________________________________________________________________________________\n",
      "re_lu_641 (ReLU)                (None, 1, 1, 128)    0           batch_normalization_551[0][0]    \n",
      "__________________________________________________________________________________________________\n",
      "conv2d_989 (Conv2D)             (None, 1, 1, 32)     36896       re_lu_641[0][0]                  \n",
      "__________________________________________________________________________________________________\n",
      "concatenate_370 (Concatenate)   (None, 1, 1, 800)    0           conv2d_989[0][0]                 \n",
      "                                                                 concatenate_369[0][0]            \n",
      "__________________________________________________________________________________________________\n",
      "batch_normalization_552 (BatchN (None, 1, 1, 800)    3200        concatenate_370[0][0]            \n",
      "__________________________________________________________________________________________________\n",
      "re_lu_642 (ReLU)                (None, 1, 1, 800)    0           batch_normalization_552[0][0]    \n",
      "__________________________________________________________________________________________________\n",
      "conv2d_990 (Conv2D)             (None, 1, 1, 128)    102528      re_lu_642[0][0]                  \n",
      "__________________________________________________________________________________________________\n",
      "batch_normalization_553 (BatchN (None, 1, 1, 128)    512         conv2d_990[0][0]                 \n",
      "__________________________________________________________________________________________________\n",
      "re_lu_643 (ReLU)                (None, 1, 1, 128)    0           batch_normalization_553[0][0]    \n",
      "__________________________________________________________________________________________________\n",
      "conv2d_991 (Conv2D)             (None, 1, 1, 32)     36896       re_lu_643[0][0]                  \n",
      "__________________________________________________________________________________________________\n",
      "concatenate_371 (Concatenate)   (None, 1, 1, 832)    0           conv2d_991[0][0]                 \n",
      "                                                                 concatenate_370[0][0]            \n",
      "__________________________________________________________________________________________________\n",
      "batch_normalization_554 (BatchN (None, 1, 1, 832)    3328        concatenate_371[0][0]            \n",
      "__________________________________________________________________________________________________\n",
      "re_lu_644 (ReLU)                (None, 1, 1, 832)    0           batch_normalization_554[0][0]    \n",
      "__________________________________________________________________________________________________\n",
      "conv2d_992 (Conv2D)             (None, 1, 1, 128)    106624      re_lu_644[0][0]                  \n",
      "__________________________________________________________________________________________________\n",
      "batch_normalization_555 (BatchN (None, 1, 1, 128)    512         conv2d_992[0][0]                 \n",
      "__________________________________________________________________________________________________\n",
      "re_lu_645 (ReLU)                (None, 1, 1, 128)    0           batch_normalization_555[0][0]    \n",
      "__________________________________________________________________________________________________\n",
      "conv2d_993 (Conv2D)             (None, 1, 1, 32)     36896       re_lu_645[0][0]                  \n",
      "__________________________________________________________________________________________________\n",
      "concatenate_372 (Concatenate)   (None, 1, 1, 864)    0           conv2d_993[0][0]                 \n",
      "                                                                 concatenate_371[0][0]            \n",
      "__________________________________________________________________________________________________\n",
      "batch_normalization_556 (BatchN (None, 1, 1, 864)    3456        concatenate_372[0][0]            \n",
      "__________________________________________________________________________________________________\n",
      "re_lu_646 (ReLU)                (None, 1, 1, 864)    0           batch_normalization_556[0][0]    \n",
      "__________________________________________________________________________________________________\n",
      "conv2d_994 (Conv2D)             (None, 1, 1, 128)    110720      re_lu_646[0][0]                  \n",
      "__________________________________________________________________________________________________\n",
      "batch_normalization_557 (BatchN (None, 1, 1, 128)    512         conv2d_994[0][0]                 \n",
      "__________________________________________________________________________________________________\n",
      "re_lu_647 (ReLU)                (None, 1, 1, 128)    0           batch_normalization_557[0][0]    \n",
      "__________________________________________________________________________________________________\n",
      "conv2d_995 (Conv2D)             (None, 1, 1, 32)     36896       re_lu_647[0][0]                  \n",
      "__________________________________________________________________________________________________\n",
      "concatenate_373 (Concatenate)   (None, 1, 1, 896)    0           conv2d_995[0][0]                 \n",
      "                                                                 concatenate_372[0][0]            \n",
      "__________________________________________________________________________________________________\n",
      "batch_normalization_558 (BatchN (None, 1, 1, 896)    3584        concatenate_373[0][0]            \n",
      "__________________________________________________________________________________________________\n",
      "re_lu_648 (ReLU)                (None, 1, 1, 896)    0           batch_normalization_558[0][0]    \n",
      "__________________________________________________________________________________________________\n",
      "conv2d_996 (Conv2D)             (None, 1, 1, 128)    114816      re_lu_648[0][0]                  \n",
      "__________________________________________________________________________________________________\n",
      "batch_normalization_559 (BatchN (None, 1, 1, 128)    512         conv2d_996[0][0]                 \n",
      "__________________________________________________________________________________________________\n",
      "re_lu_649 (ReLU)                (None, 1, 1, 128)    0           batch_normalization_559[0][0]    \n",
      "__________________________________________________________________________________________________\n",
      "conv2d_997 (Conv2D)             (None, 1, 1, 32)     36896       re_lu_649[0][0]                  \n",
      "__________________________________________________________________________________________________\n",
      "concatenate_374 (Concatenate)   (None, 1, 1, 928)    0           conv2d_997[0][0]                 \n",
      "                                                                 concatenate_373[0][0]            \n",
      "__________________________________________________________________________________________________\n",
      "batch_normalization_560 (BatchN (None, 1, 1, 928)    3712        concatenate_374[0][0]            \n",
      "__________________________________________________________________________________________________\n",
      "re_lu_650 (ReLU)                (None, 1, 1, 928)    0           batch_normalization_560[0][0]    \n",
      "__________________________________________________________________________________________________\n",
      "conv2d_998 (Conv2D)             (None, 1, 1, 128)    118912      re_lu_650[0][0]                  \n",
      "__________________________________________________________________________________________________\n",
      "batch_normalization_561 (BatchN (None, 1, 1, 128)    512         conv2d_998[0][0]                 \n",
      "__________________________________________________________________________________________________\n",
      "re_lu_651 (ReLU)                (None, 1, 1, 128)    0           batch_normalization_561[0][0]    \n",
      "__________________________________________________________________________________________________\n",
      "conv2d_999 (Conv2D)             (None, 1, 1, 32)     36896       re_lu_651[0][0]                  \n",
      "__________________________________________________________________________________________________\n",
      "concatenate_375 (Concatenate)   (None, 1, 1, 960)    0           conv2d_999[0][0]                 \n",
      "                                                                 concatenate_374[0][0]            \n",
      "__________________________________________________________________________________________________\n",
      "batch_normalization_562 (BatchN (None, 1, 1, 960)    3840        concatenate_375[0][0]            \n",
      "__________________________________________________________________________________________________\n",
      "re_lu_652 (ReLU)                (None, 1, 1, 960)    0           batch_normalization_562[0][0]    \n",
      "__________________________________________________________________________________________________\n",
      "conv2d_1000 (Conv2D)            (None, 1, 1, 128)    123008      re_lu_652[0][0]                  \n",
      "__________________________________________________________________________________________________\n",
      "batch_normalization_563 (BatchN (None, 1, 1, 128)    512         conv2d_1000[0][0]                \n",
      "__________________________________________________________________________________________________\n",
      "re_lu_653 (ReLU)                (None, 1, 1, 128)    0           batch_normalization_563[0][0]    \n",
      "__________________________________________________________________________________________________\n",
      "conv2d_1001 (Conv2D)            (None, 1, 1, 32)     36896       re_lu_653[0][0]                  \n",
      "__________________________________________________________________________________________________\n",
      "concatenate_376 (Concatenate)   (None, 1, 1, 992)    0           conv2d_1001[0][0]                \n",
      "                                                                 concatenate_375[0][0]            \n",
      "__________________________________________________________________________________________________\n",
      "batch_normalization_564 (BatchN (None, 1, 1, 992)    3968        concatenate_376[0][0]            \n",
      "__________________________________________________________________________________________________\n",
      "re_lu_654 (ReLU)                (None, 1, 1, 992)    0           batch_normalization_564[0][0]    \n",
      "__________________________________________________________________________________________________\n",
      "conv2d_1002 (Conv2D)            (None, 1, 1, 128)    127104      re_lu_654[0][0]                  \n",
      "__________________________________________________________________________________________________\n",
      "batch_normalization_565 (BatchN (None, 1, 1, 128)    512         conv2d_1002[0][0]                \n",
      "__________________________________________________________________________________________________\n",
      "re_lu_655 (ReLU)                (None, 1, 1, 128)    0           batch_normalization_565[0][0]    \n",
      "__________________________________________________________________________________________________\n",
      "conv2d_1003 (Conv2D)            (None, 1, 1, 32)     36896       re_lu_655[0][0]                  \n",
      "__________________________________________________________________________________________________\n",
      "concatenate_377 (Concatenate)   (None, 1, 1, 1024)   0           conv2d_1003[0][0]                \n",
      "                                                                 concatenate_376[0][0]            \n",
      "__________________________________________________________________________________________________\n",
      "global_average_pooling2d_10 (Gl (None, 1024)         0           concatenate_377[0][0]            \n",
      "__________________________________________________________________________________________________\n",
      "dense_15 (Dense)                (None, 10)           10250       global_average_pooling2d_10[0][0]\n",
      "==================================================================================================\n"
     ]
    },
    {
     "name": "stdout",
     "output_type": "stream",
     "text": [
      "Total params: 7,053,642\n",
      "Trainable params: 6,972,170\n",
      "Non-trainable params: 81,472\n",
      "__________________________________________________________________________________________________\n"
     ]
    }
   ],
   "source": [
    "# Create Model - Densenet 121\n",
    "model = densenet(input_shape, num_classes)\n",
    "\n",
    "model.summary()"
   ]
  },
  {
   "cell_type": "code",
   "execution_count": 158,
   "metadata": {},
   "outputs": [
    {
     "name": "stdout",
     "output_type": "stream",
     "text": [
      "lr:  0.001\n"
     ]
    }
   ],
   "source": [
    "# STEP 5: Compile Model : Configures model for training\n",
    "\n",
    "model.compile(loss='categorical_crossentropy', optimizer='Adam', metrics=['accuracy'])\n",
    "print('lr: ', tf.keras.backend.eval(model.optimizer.lr))"
   ]
  },
  {
   "cell_type": "code",
   "execution_count": 142,
   "metadata": {},
   "outputs": [
    {
     "name": "stdout",
     "output_type": "stream",
     "text": [
      "Train on 50000 samples, validate on 10000 samples\n",
      "Epoch 1/10\n",
      "50000/50000 [==============================] - 829s 17ms/sample - loss: 1.5127 - accuracy: 0.4708 - val_loss: 1.8454 - val_accuracy: 0.3784\n",
      "Epoch 2/10\n",
      "50000/50000 [==============================] - 796s 16ms/sample - loss: 1.0423 - accuracy: 0.6347 - val_loss: 1.4062 - val_accuracy: 0.5141\n",
      "Epoch 3/10\n",
      "50000/50000 [==============================] - 797s 16ms/sample - loss: 0.8465 - accuracy: 0.7070 - val_loss: 1.2730 - val_accuracy: 0.6035\n",
      "Epoch 4/10\n",
      "50000/50000 [==============================] - 795s 16ms/sample - loss: 0.7252 - accuracy: 0.7515 - val_loss: 1.3491 - val_accuracy: 0.5771\n",
      "Epoch 5/10\n",
      "50000/50000 [==============================] - 789s 16ms/sample - loss: 0.6217 - accuracy: 0.7849 - val_loss: 1.4609 - val_accuracy: 0.5539\n",
      "Epoch 6/10\n",
      "50000/50000 [==============================] - 785s 16ms/sample - loss: 0.5355 - accuracy: 0.8136 - val_loss: 0.7247 - val_accuracy: 0.7518\n",
      "Epoch 7/10\n",
      "50000/50000 [==============================] - 785s 16ms/sample - loss: 0.4579 - accuracy: 0.8416 - val_loss: 0.9980 - val_accuracy: 0.6938\n",
      "Epoch 8/10\n",
      "50000/50000 [==============================] - 790s 16ms/sample - loss: 0.3846 - accuracy: 0.8662 - val_loss: 0.7667 - val_accuracy: 0.7493\n",
      "Epoch 9/10\n",
      "50000/50000 [==============================] - 792s 16ms/sample - loss: 0.3222 - accuracy: 0.8862 - val_loss: 0.8877 - val_accuracy: 0.7356\n",
      "Epoch 10/10\n",
      "50000/50000 [==============================] - 798s 16ms/sample - loss: 0.2638 - accuracy: 0.9074 - val_loss: 0.9418 - val_accuracy: 0.7347\n"
     ]
    }
   ],
   "source": [
    "# STEP 6: Train/Fit Model\n",
    "\n",
    "history = model.fit(X_train, y_train,\n",
    "              batch_size=batch_size,\n",
    "              epochs=epochs,\n",
    "              validation_data=(X_test, y_test),\n",
    "              callbacks=[tensorboard_callback])"
   ]
  },
  {
   "cell_type": "code",
   "execution_count": 143,
   "metadata": {},
   "outputs": [
    {
     "data": {
      "text/plain": [
       "Reusing TensorBoard on port 6006 (pid 14248), started 1 day, 6:32:09 ago. (Use '!kill 14248' to kill it.)"
      ]
     },
     "metadata": {},
     "output_type": "display_data"
    },
    {
     "data": {
      "text/html": [
       "\n",
       "      <iframe id=\"tensorboard-frame-eaa7114aba1e8d6a\" width=\"100%\" height=\"800\" frameborder=\"0\">\n",
       "      </iframe>\n",
       "      <script>\n",
       "        (function() {\n",
       "          const frame = document.getElementById(\"tensorboard-frame-eaa7114aba1e8d6a\");\n",
       "          const url = new URL(\"/\", window.location);\n",
       "          url.port = 6006;\n",
       "          frame.src = url;\n",
       "        })();\n",
       "      </script>\n",
       "  "
      ],
      "text/plain": [
       "<IPython.core.display.HTML object>"
      ]
     },
     "metadata": {},
     "output_type": "display_data"
    }
   ],
   "source": [
    "%tensorboard --logdir logs"
   ]
  },
  {
   "cell_type": "code",
   "execution_count": 144,
   "metadata": {},
   "outputs": [
    {
     "data": {
      "image/png": "[encoded data removed]",
      "text/plain": [
       "<Figure size 432x288 with 1 Axes>"
      ]
     },
     "metadata": {},
     "output_type": "display_data"
    }
   ],
   "source": [
    "# Plot Accuracy\n",
    "plotAccuracy(history)"
   ]
  },
  {
   "cell_type": "code",
   "execution_count": 145,
   "metadata": {},
   "outputs": [
    {
     "data": {
      "image/png": "[encoded data removed]",
      "text/plain": [
       "<Figure size 432x288 with 1 Axes>"
      ]
     },
     "metadata": {},
     "output_type": "display_data"
    }
   ],
   "source": [
    "# Plot losses\n",
    "plotLosses(history)"
   ]
  },
  {
   "cell_type": "markdown",
   "metadata": {},
   "source": [
    "#### Analysis\n",
    "\n",
    "- Validation accuracy is 73.47%\n",
    "- Time per epoch is 13 mins on a normal CPU\n",
    "- Validation accuracy and loss is not in accordance with Training ???\n",
    "- Training loss is consistently decreasing which means model is learning specific images.\n",
    "- Validation loss is going up and down ???\n",
    "- Is it overfitting or under-fitting?\n"
   ]
  },
  {
   "cell_type": "markdown",
   "metadata": {},
   "source": [
    "### Evaluate"
   ]
  },
  {
   "cell_type": "code",
   "execution_count": 146,
   "metadata": {},
   "outputs": [],
   "source": [
    "# Evaluate model\n",
    "score = model.evaluate(X_test, y_test, batch_size=batch_size, verbose=0)"
   ]
  },
  {
   "cell_type": "code",
   "execution_count": 147,
   "metadata": {},
   "outputs": [
    {
     "name": "stdout",
     "output_type": "stream",
     "text": [
      "['loss', 'accuracy']\n",
      "[0.9417637833595276, 0.7347]\n"
     ]
    }
   ],
   "source": [
    "# Predict score\n",
    "print(model.metrics_names)\n",
    "print(score)"
   ]
  },
  {
   "cell_type": "markdown",
   "metadata": {},
   "source": [
    "### References\n",
    "\n",
    "- [Densenet - Towards Datascience](https://towardsdatascience.com/densenet-2810936aeebb)\n",
    "- [MLT CNN Architectures: DenseNet - theory](http://www.youtube.com/watch?v=wh-n-pTxMZU)\n",
    "- [MLT CNN Architectures: DenseNet - implementation](http://www.youtube.com/watch?v=QKtoh9FJIWQ)"
   ]
  },
  {
   "cell_type": "markdown",
   "metadata": {},
   "source": [
    "## Improvement 1: Increase epcohs from 10 to 50"
   ]
  },
  {
   "cell_type": "code",
   "execution_count": 148,
   "metadata": {},
   "outputs": [
    {
     "name": "stdout",
     "output_type": "stream",
     "text": [
      "Train on 50000 samples, validate on 10000 samples\n",
      "Epoch 1/50\n",
      "50000/50000 [==============================] - 876s 18ms/sample - loss: 0.2236 - accuracy: 0.9213 - val_loss: 0.9236 - val_accuracy: 0.7549\n",
      "Epoch 2/50\n",
      "50000/50000 [==============================] - 876s 18ms/sample - loss: 0.1964 - accuracy: 0.9297 - val_loss: 0.8736 - val_accuracy: 0.7614\n",
      "Epoch 3/50\n",
      "50000/50000 [==============================] - 895s 18ms/sample - loss: 0.1604 - accuracy: 0.9425 - val_loss: 0.7935 - val_accuracy: 0.7855\n",
      "Epoch 4/50\n",
      "50000/50000 [==============================] - 895s 18ms/sample - loss: 0.1439 - accuracy: 0.9497 - val_loss: 0.9524 - val_accuracy: 0.7664\n",
      "Epoch 5/50\n",
      "50000/50000 [==============================] - 885s 18ms/sample - loss: 0.1330 - accuracy: 0.9530 - val_loss: 1.1355 - val_accuracy: 0.7510\n",
      "Epoch 6/50\n",
      "50000/50000 [==============================] - 893s 18ms/sample - loss: 0.1209 - accuracy: 0.9572 - val_loss: 0.9907 - val_accuracy: 0.7717\n",
      "Epoch 7/50\n",
      "50000/50000 [==============================] - 897s 18ms/sample - loss: 0.1121 - accuracy: 0.9618 - val_loss: 1.0889 - val_accuracy: 0.7717\n",
      "Epoch 8/50\n",
      "50000/50000 [==============================] - 910s 18ms/sample - loss: 0.1019 - accuracy: 0.9645 - val_loss: 1.6789 - val_accuracy: 0.6714\n",
      "Epoch 9/50\n",
      "50000/50000 [==============================] - 906s 18ms/sample - loss: 0.0986 - accuracy: 0.9661 - val_loss: 0.9248 - val_accuracy: 0.7791\n",
      "Epoch 10/50\n",
      "50000/50000 [==============================] - 899s 18ms/sample - loss: 0.0883 - accuracy: 0.9689 - val_loss: 1.2133 - val_accuracy: 0.7517\n",
      "Epoch 11/50\n",
      "50000/50000 [==============================] - 907s 18ms/sample - loss: 0.0927 - accuracy: 0.9681 - val_loss: 1.1228 - val_accuracy: 0.7662\n",
      "Epoch 12/50\n",
      "50000/50000 [==============================] - 898s 18ms/sample - loss: 0.0764 - accuracy: 0.9740 - val_loss: 1.3636 - val_accuracy: 0.7386\n",
      "Epoch 13/50\n",
      "50000/50000 [==============================] - 892s 18ms/sample - loss: 0.0811 - accuracy: 0.9730 - val_loss: 1.0513 - val_accuracy: 0.7853\n",
      "Epoch 14/50\n",
      "50000/50000 [==============================] - 896s 18ms/sample - loss: 0.0799 - accuracy: 0.9730 - val_loss: 1.1277 - val_accuracy: 0.7677\n",
      "Epoch 15/50\n",
      "50000/50000 [==============================] - 903s 18ms/sample - loss: 0.0683 - accuracy: 0.9764 - val_loss: 1.1340 - val_accuracy: 0.7715\n",
      "Epoch 16/50\n",
      "50000/50000 [==============================] - 939s 19ms/sample - loss: 0.0663 - accuracy: 0.9774 - val_loss: 1.1193 - val_accuracy: 0.7762\n",
      "Epoch 17/50\n",
      "50000/50000 [==============================] - 936s 19ms/sample - loss: 0.0673 - accuracy: 0.9767 - val_loss: 1.1216 - val_accuracy: 0.7701\n",
      "Epoch 18/50\n",
      "50000/50000 [==============================] - 922s 18ms/sample - loss: 0.0651 - accuracy: 0.9781 - val_loss: 1.1978 - val_accuracy: 0.7660\n",
      "Epoch 19/50\n",
      "50000/50000 [==============================] - 906s 18ms/sample - loss: 0.0672 - accuracy: 0.9780 - val_loss: 1.0360 - val_accuracy: 0.8000\n",
      "Epoch 20/50\n",
      "50000/50000 [==============================] - 887s 18ms/sample - loss: 0.0564 - accuracy: 0.9816 - val_loss: 1.3341 - val_accuracy: 0.7571\n",
      "Epoch 21/50\n",
      "50000/50000 [==============================] - 879s 18ms/sample - loss: 0.0607 - accuracy: 0.9798 - val_loss: 1.1829 - val_accuracy: 0.7791\n",
      "Epoch 22/50\n",
      "50000/50000 [==============================] - 884s 18ms/sample - loss: 0.0538 - accuracy: 0.9824 - val_loss: 1.1334 - val_accuracy: 0.7774\n",
      "Epoch 23/50\n",
      " 2016/50000 [>.............................] - ETA: 14:05 - loss: 0.0394 - accuracy: 0.9849"
     ]
    },
    {
     "ename": "KeyboardInterrupt",
     "evalue": "",
     "output_type": "error",
     "traceback": [
      "\u001b[1;31m---------------------------------------------------------------------------\u001b[0m",
      "\u001b[1;31mKeyboardInterrupt\u001b[0m                         Traceback (most recent call last)",
      "\u001b[1;32m<ipython-input-148-1db3dffcc64c>\u001b[0m in \u001b[0;36m<module>\u001b[1;34m()\u001b[0m\n\u001b[0;32m      5\u001b[0m               \u001b[0mepochs\u001b[0m\u001b[1;33m=\u001b[0m\u001b[1;36m50\u001b[0m\u001b[1;33m,\u001b[0m\u001b[1;33m\u001b[0m\u001b[0m\n\u001b[0;32m      6\u001b[0m               \u001b[0mvalidation_data\u001b[0m\u001b[1;33m=\u001b[0m\u001b[1;33m(\u001b[0m\u001b[0mX_test\u001b[0m\u001b[1;33m,\u001b[0m \u001b[0my_test\u001b[0m\u001b[1;33m)\u001b[0m\u001b[1;33m,\u001b[0m\u001b[1;33m\u001b[0m\u001b[0m\n\u001b[1;32m----> 7\u001b[1;33m               callbacks=[tensorboard_callback])\n\u001b[0m",
      "\u001b[1;32mc:\\python\\python36\\lib\\site-packages\\tensorflow_core\\python\\keras\\engine\\training.py\u001b[0m in \u001b[0;36mfit\u001b[1;34m(self, x, y, batch_size, epochs, verbose, callbacks, validation_split, validation_data, shuffle, class_weight, sample_weight, initial_epoch, steps_per_epoch, validation_steps, validation_freq, max_queue_size, workers, use_multiprocessing, **kwargs)\u001b[0m\n\u001b[0;32m    726\u001b[0m         \u001b[0mmax_queue_size\u001b[0m\u001b[1;33m=\u001b[0m\u001b[0mmax_queue_size\u001b[0m\u001b[1;33m,\u001b[0m\u001b[1;33m\u001b[0m\u001b[0m\n\u001b[0;32m    727\u001b[0m         \u001b[0mworkers\u001b[0m\u001b[1;33m=\u001b[0m\u001b[0mworkers\u001b[0m\u001b[1;33m,\u001b[0m\u001b[1;33m\u001b[0m\u001b[0m\n\u001b[1;32m--> 728\u001b[1;33m         use_multiprocessing=use_multiprocessing)\n\u001b[0m\u001b[0;32m    729\u001b[0m \u001b[1;33m\u001b[0m\u001b[0m\n\u001b[0;32m    730\u001b[0m   def evaluate(self,\n",
      "\u001b[1;32mc:\\python\\python36\\lib\\site-packages\\tensorflow_core\\python\\keras\\engine\\training_v2.py\u001b[0m in \u001b[0;36mfit\u001b[1;34m(self, model, x, y, batch_size, epochs, verbose, callbacks, validation_split, validation_data, shuffle, class_weight, sample_weight, initial_epoch, steps_per_epoch, validation_steps, validation_freq, **kwargs)\u001b[0m\n\u001b[0;32m    322\u001b[0m                 \u001b[0mmode\u001b[0m\u001b[1;33m=\u001b[0m\u001b[0mModeKeys\u001b[0m\u001b[1;33m.\u001b[0m\u001b[0mTRAIN\u001b[0m\u001b[1;33m,\u001b[0m\u001b[1;33m\u001b[0m\u001b[0m\n\u001b[0;32m    323\u001b[0m                 \u001b[0mtraining_context\u001b[0m\u001b[1;33m=\u001b[0m\u001b[0mtraining_context\u001b[0m\u001b[1;33m,\u001b[0m\u001b[1;33m\u001b[0m\u001b[0m\n\u001b[1;32m--> 324\u001b[1;33m                 total_epochs=epochs)\n\u001b[0m\u001b[0;32m    325\u001b[0m             \u001b[0mcbks\u001b[0m\u001b[1;33m.\u001b[0m\u001b[0mmake_logs\u001b[0m\u001b[1;33m(\u001b[0m\u001b[0mmodel\u001b[0m\u001b[1;33m,\u001b[0m \u001b[0mepoch_logs\u001b[0m\u001b[1;33m,\u001b[0m \u001b[0mtraining_result\u001b[0m\u001b[1;33m,\u001b[0m \u001b[0mModeKeys\u001b[0m\u001b[1;33m.\u001b[0m\u001b[0mTRAIN\u001b[0m\u001b[1;33m)\u001b[0m\u001b[1;33m\u001b[0m\u001b[0m\n\u001b[0;32m    326\u001b[0m \u001b[1;33m\u001b[0m\u001b[0m\n",
      "\u001b[1;32mc:\\python\\python36\\lib\\site-packages\\tensorflow_core\\python\\keras\\engine\\training_v2.py\u001b[0m in \u001b[0;36mrun_one_epoch\u001b[1;34m(model, iterator, execution_function, dataset_size, batch_size, strategy, steps_per_epoch, num_samples, mode, training_context, total_epochs)\u001b[0m\n\u001b[0;32m    121\u001b[0m         step=step, mode=mode, size=current_batch_size) as batch_logs:\n\u001b[0;32m    122\u001b[0m       \u001b[1;32mtry\u001b[0m\u001b[1;33m:\u001b[0m\u001b[1;33m\u001b[0m\u001b[0m\n\u001b[1;32m--> 123\u001b[1;33m         \u001b[0mbatch_outs\u001b[0m \u001b[1;33m=\u001b[0m \u001b[0mexecution_function\u001b[0m\u001b[1;33m(\u001b[0m\u001b[0miterator\u001b[0m\u001b[1;33m)\u001b[0m\u001b[1;33m\u001b[0m\u001b[0m\n\u001b[0m\u001b[0;32m    124\u001b[0m       \u001b[1;32mexcept\u001b[0m \u001b[1;33m(\u001b[0m\u001b[0mStopIteration\u001b[0m\u001b[1;33m,\u001b[0m \u001b[0merrors\u001b[0m\u001b[1;33m.\u001b[0m\u001b[0mOutOfRangeError\u001b[0m\u001b[1;33m)\u001b[0m\u001b[1;33m:\u001b[0m\u001b[1;33m\u001b[0m\u001b[0m\n\u001b[0;32m    125\u001b[0m         \u001b[1;31m# TODO(kaftan): File bug about tf function and errors.OutOfRangeError?\u001b[0m\u001b[1;33m\u001b[0m\u001b[1;33m\u001b[0m\u001b[0m\n",
      "\u001b[1;32mc:\\python\\python36\\lib\\site-packages\\tensorflow_core\\python\\keras\\engine\\training_v2_utils.py\u001b[0m in \u001b[0;36mexecution_function\u001b[1;34m(input_fn)\u001b[0m\n\u001b[0;32m     84\u001b[0m     \u001b[1;31m# `numpy` translates Tensors to values in Eager mode.\u001b[0m\u001b[1;33m\u001b[0m\u001b[1;33m\u001b[0m\u001b[0m\n\u001b[0;32m     85\u001b[0m     return nest.map_structure(_non_none_constant_value,\n\u001b[1;32m---> 86\u001b[1;33m                               distributed_function(input_fn))\n\u001b[0m\u001b[0;32m     87\u001b[0m \u001b[1;33m\u001b[0m\u001b[0m\n\u001b[0;32m     88\u001b[0m   \u001b[1;32mreturn\u001b[0m \u001b[0mexecution_function\u001b[0m\u001b[1;33m\u001b[0m\u001b[0m\n",
      "\u001b[1;32mc:\\python\\python36\\lib\\site-packages\\tensorflow_core\\python\\eager\\def_function.py\u001b[0m in \u001b[0;36m__call__\u001b[1;34m(self, *args, **kwds)\u001b[0m\n\u001b[0;32m    455\u001b[0m \u001b[1;33m\u001b[0m\u001b[0m\n\u001b[0;32m    456\u001b[0m     \u001b[0mtracing_count\u001b[0m \u001b[1;33m=\u001b[0m \u001b[0mself\u001b[0m\u001b[1;33m.\u001b[0m\u001b[0m_get_tracing_count\u001b[0m\u001b[1;33m(\u001b[0m\u001b[1;33m)\u001b[0m\u001b[1;33m\u001b[0m\u001b[0m\n\u001b[1;32m--> 457\u001b[1;33m     \u001b[0mresult\u001b[0m \u001b[1;33m=\u001b[0m \u001b[0mself\u001b[0m\u001b[1;33m.\u001b[0m\u001b[0m_call\u001b[0m\u001b[1;33m(\u001b[0m\u001b[1;33m*\u001b[0m\u001b[0margs\u001b[0m\u001b[1;33m,\u001b[0m \u001b[1;33m**\u001b[0m\u001b[0mkwds\u001b[0m\u001b[1;33m)\u001b[0m\u001b[1;33m\u001b[0m\u001b[0m\n\u001b[0m\u001b[0;32m    458\u001b[0m     \u001b[1;32mif\u001b[0m \u001b[0mtracing_count\u001b[0m \u001b[1;33m==\u001b[0m \u001b[0mself\u001b[0m\u001b[1;33m.\u001b[0m\u001b[0m_get_tracing_count\u001b[0m\u001b[1;33m(\u001b[0m\u001b[1;33m)\u001b[0m\u001b[1;33m:\u001b[0m\u001b[1;33m\u001b[0m\u001b[0m\n\u001b[0;32m    459\u001b[0m       \u001b[0mself\u001b[0m\u001b[1;33m.\u001b[0m\u001b[0m_call_counter\u001b[0m\u001b[1;33m.\u001b[0m\u001b[0mcalled_without_tracing\u001b[0m\u001b[1;33m(\u001b[0m\u001b[1;33m)\u001b[0m\u001b[1;33m\u001b[0m\u001b[0m\n",
      "\u001b[1;32mc:\\python\\python36\\lib\\site-packages\\tensorflow_core\\python\\eager\\def_function.py\u001b[0m in \u001b[0;36m_call\u001b[1;34m(self, *args, **kwds)\u001b[0m\n\u001b[0;32m    485\u001b[0m       \u001b[1;31m# In this case we have created variables on the first call, so we run the\u001b[0m\u001b[1;33m\u001b[0m\u001b[1;33m\u001b[0m\u001b[0m\n\u001b[0;32m    486\u001b[0m       \u001b[1;31m# defunned version which is guaranteed to never create variables.\u001b[0m\u001b[1;33m\u001b[0m\u001b[1;33m\u001b[0m\u001b[0m\n\u001b[1;32m--> 487\u001b[1;33m       \u001b[1;32mreturn\u001b[0m \u001b[0mself\u001b[0m\u001b[1;33m.\u001b[0m\u001b[0m_stateless_fn\u001b[0m\u001b[1;33m(\u001b[0m\u001b[1;33m*\u001b[0m\u001b[0margs\u001b[0m\u001b[1;33m,\u001b[0m \u001b[1;33m**\u001b[0m\u001b[0mkwds\u001b[0m\u001b[1;33m)\u001b[0m  \u001b[1;31m# pylint: disable=not-callable\u001b[0m\u001b[1;33m\u001b[0m\u001b[0m\n\u001b[0m\u001b[0;32m    488\u001b[0m     \u001b[1;32melif\u001b[0m \u001b[0mself\u001b[0m\u001b[1;33m.\u001b[0m\u001b[0m_stateful_fn\u001b[0m \u001b[1;32mis\u001b[0m \u001b[1;32mnot\u001b[0m \u001b[1;32mNone\u001b[0m\u001b[1;33m:\u001b[0m\u001b[1;33m\u001b[0m\u001b[0m\n\u001b[0;32m    489\u001b[0m       \u001b[1;31m# Release the lock early so that multiple threads can perform the call\u001b[0m\u001b[1;33m\u001b[0m\u001b[1;33m\u001b[0m\u001b[0m\n",
      "\u001b[1;32mc:\\python\\python36\\lib\\site-packages\\tensorflow_core\\python\\eager\\function.py\u001b[0m in \u001b[0;36m__call__\u001b[1;34m(self, *args, **kwargs)\u001b[0m\n\u001b[0;32m   1821\u001b[0m     \u001b[1;34m\"\"\"Calls a graph function specialized to the inputs.\"\"\"\u001b[0m\u001b[1;33m\u001b[0m\u001b[0m\n\u001b[0;32m   1822\u001b[0m     \u001b[0mgraph_function\u001b[0m\u001b[1;33m,\u001b[0m \u001b[0margs\u001b[0m\u001b[1;33m,\u001b[0m \u001b[0mkwargs\u001b[0m \u001b[1;33m=\u001b[0m \u001b[0mself\u001b[0m\u001b[1;33m.\u001b[0m\u001b[0m_maybe_define_function\u001b[0m\u001b[1;33m(\u001b[0m\u001b[0margs\u001b[0m\u001b[1;33m,\u001b[0m \u001b[0mkwargs\u001b[0m\u001b[1;33m)\u001b[0m\u001b[1;33m\u001b[0m\u001b[0m\n\u001b[1;32m-> 1823\u001b[1;33m     \u001b[1;32mreturn\u001b[0m \u001b[0mgraph_function\u001b[0m\u001b[1;33m.\u001b[0m\u001b[0m_filtered_call\u001b[0m\u001b[1;33m(\u001b[0m\u001b[0margs\u001b[0m\u001b[1;33m,\u001b[0m \u001b[0mkwargs\u001b[0m\u001b[1;33m)\u001b[0m  \u001b[1;31m# pylint: disable=protected-access\u001b[0m\u001b[1;33m\u001b[0m\u001b[0m\n\u001b[0m\u001b[0;32m   1824\u001b[0m \u001b[1;33m\u001b[0m\u001b[0m\n\u001b[0;32m   1825\u001b[0m   \u001b[1;33m@\u001b[0m\u001b[0mproperty\u001b[0m\u001b[1;33m\u001b[0m\u001b[0m\n",
      "\u001b[1;32mc:\\python\\python36\\lib\\site-packages\\tensorflow_core\\python\\eager\\function.py\u001b[0m in \u001b[0;36m_filtered_call\u001b[1;34m(self, args, kwargs)\u001b[0m\n\u001b[0;32m   1139\u001b[0m          if isinstance(t, (ops.Tensor,\n\u001b[0;32m   1140\u001b[0m                            resource_variable_ops.BaseResourceVariable))),\n\u001b[1;32m-> 1141\u001b[1;33m         self.captured_inputs)\n\u001b[0m\u001b[0;32m   1142\u001b[0m \u001b[1;33m\u001b[0m\u001b[0m\n\u001b[0;32m   1143\u001b[0m   \u001b[1;32mdef\u001b[0m \u001b[0m_call_flat\u001b[0m\u001b[1;33m(\u001b[0m\u001b[0mself\u001b[0m\u001b[1;33m,\u001b[0m \u001b[0margs\u001b[0m\u001b[1;33m,\u001b[0m \u001b[0mcaptured_inputs\u001b[0m\u001b[1;33m,\u001b[0m \u001b[0mcancellation_manager\u001b[0m\u001b[1;33m=\u001b[0m\u001b[1;32mNone\u001b[0m\u001b[1;33m)\u001b[0m\u001b[1;33m:\u001b[0m\u001b[1;33m\u001b[0m\u001b[0m\n",
      "\u001b[1;32mc:\\python\\python36\\lib\\site-packages\\tensorflow_core\\python\\eager\\function.py\u001b[0m in \u001b[0;36m_call_flat\u001b[1;34m(self, args, captured_inputs, cancellation_manager)\u001b[0m\n\u001b[0;32m   1222\u001b[0m     \u001b[1;32mif\u001b[0m \u001b[0mexecuting_eagerly\u001b[0m\u001b[1;33m:\u001b[0m\u001b[1;33m\u001b[0m\u001b[0m\n\u001b[0;32m   1223\u001b[0m       flat_outputs = forward_function.call(\n\u001b[1;32m-> 1224\u001b[1;33m           ctx, args, cancellation_manager=cancellation_manager)\n\u001b[0m\u001b[0;32m   1225\u001b[0m     \u001b[1;32melse\u001b[0m\u001b[1;33m:\u001b[0m\u001b[1;33m\u001b[0m\u001b[0m\n\u001b[0;32m   1226\u001b[0m       \u001b[0mgradient_name\u001b[0m \u001b[1;33m=\u001b[0m \u001b[0mself\u001b[0m\u001b[1;33m.\u001b[0m\u001b[0m_delayed_rewrite_functions\u001b[0m\u001b[1;33m.\u001b[0m\u001b[0mregister\u001b[0m\u001b[1;33m(\u001b[0m\u001b[1;33m)\u001b[0m\u001b[1;33m\u001b[0m\u001b[0m\n",
      "\u001b[1;32mc:\\python\\python36\\lib\\site-packages\\tensorflow_core\\python\\eager\\function.py\u001b[0m in \u001b[0;36mcall\u001b[1;34m(self, ctx, args, cancellation_manager)\u001b[0m\n\u001b[0;32m    509\u001b[0m               \u001b[0minputs\u001b[0m\u001b[1;33m=\u001b[0m\u001b[0margs\u001b[0m\u001b[1;33m,\u001b[0m\u001b[1;33m\u001b[0m\u001b[0m\n\u001b[0;32m    510\u001b[0m               \u001b[0mattrs\u001b[0m\u001b[1;33m=\u001b[0m\u001b[1;33m(\u001b[0m\u001b[1;34m\"executor_type\"\u001b[0m\u001b[1;33m,\u001b[0m \u001b[0mexecutor_type\u001b[0m\u001b[1;33m,\u001b[0m \u001b[1;34m\"config_proto\"\u001b[0m\u001b[1;33m,\u001b[0m \u001b[0mconfig\u001b[0m\u001b[1;33m)\u001b[0m\u001b[1;33m,\u001b[0m\u001b[1;33m\u001b[0m\u001b[0m\n\u001b[1;32m--> 511\u001b[1;33m               ctx=ctx)\n\u001b[0m\u001b[0;32m    512\u001b[0m         \u001b[1;32melse\u001b[0m\u001b[1;33m:\u001b[0m\u001b[1;33m\u001b[0m\u001b[0m\n\u001b[0;32m    513\u001b[0m           outputs = execute.execute_with_cancellation(\n",
      "\u001b[1;32mc:\\python\\python36\\lib\\site-packages\\tensorflow_core\\python\\eager\\execute.py\u001b[0m in \u001b[0;36mquick_execute\u001b[1;34m(op_name, num_outputs, inputs, attrs, ctx, name)\u001b[0m\n\u001b[0;32m     59\u001b[0m     tensors = pywrap_tensorflow.TFE_Py_Execute(ctx._handle, device_name,\n\u001b[0;32m     60\u001b[0m                                                \u001b[0mop_name\u001b[0m\u001b[1;33m,\u001b[0m \u001b[0minputs\u001b[0m\u001b[1;33m,\u001b[0m \u001b[0mattrs\u001b[0m\u001b[1;33m,\u001b[0m\u001b[1;33m\u001b[0m\u001b[0m\n\u001b[1;32m---> 61\u001b[1;33m                                                num_outputs)\n\u001b[0m\u001b[0;32m     62\u001b[0m   \u001b[1;32mexcept\u001b[0m \u001b[0mcore\u001b[0m\u001b[1;33m.\u001b[0m\u001b[0m_NotOkStatusException\u001b[0m \u001b[1;32mas\u001b[0m \u001b[0me\u001b[0m\u001b[1;33m:\u001b[0m\u001b[1;33m\u001b[0m\u001b[0m\n\u001b[0;32m     63\u001b[0m     \u001b[1;32mif\u001b[0m \u001b[0mname\u001b[0m \u001b[1;32mis\u001b[0m \u001b[1;32mnot\u001b[0m \u001b[1;32mNone\u001b[0m\u001b[1;33m:\u001b[0m\u001b[1;33m\u001b[0m\u001b[0m\n",
      "\u001b[1;31mKeyboardInterrupt\u001b[0m: "
     ]
    }
   ],
   "source": [
    "# STEP 6: Train/Fit Model\n",
    "\n",
    "history = model.fit(X_train, y_train,\n",
    "              batch_size=batch_size,\n",
    "              epochs=50,\n",
    "              validation_data=(X_test, y_test),\n",
    "              callbacks=[tensorboard_callback])"
   ]
  },
  {
   "cell_type": "code",
   "execution_count": 149,
   "metadata": {},
   "outputs": [
    {
     "data": {
      "text/plain": [
       "Reusing TensorBoard on port 6006 (pid 14248), started 1 day, 13:14:18 ago. (Use '!kill 14248' to kill it.)"
      ]
     },
     "metadata": {},
     "output_type": "display_data"
    },
    {
     "data": {
      "text/html": [
       "\n",
       "      <iframe id=\"tensorboard-frame-6b9f4c8041522c99\" width=\"100%\" height=\"800\" frameborder=\"0\">\n",
       "      </iframe>\n",
       "      <script>\n",
       "        (function() {\n",
       "          const frame = document.getElementById(\"tensorboard-frame-6b9f4c8041522c99\");\n",
       "          const url = new URL(\"/\", window.location);\n",
       "          url.port = 6006;\n",
       "          frame.src = url;\n",
       "        })();\n",
       "      </script>\n",
       "  "
      ],
      "text/plain": [
       "<IPython.core.display.HTML object>"
      ]
     },
     "metadata": {},
     "output_type": "display_data"
    }
   ],
   "source": [
    "%tensorboard --logdir logs"
   ]
  },
  {
   "cell_type": "markdown",
   "metadata": {},
   "source": [
    "### Analysis\n",
    "\n",
    "- The validation accuracy was oscillating near 77%\n",
    "- Had to stop after 22 epochs\n",
    "- Validation loss has a zig-zag pattern. \n",
    "- Model is still overfitting\n",
    "- Learning rate : 0.001"
   ]
  },
  {
   "cell_type": "markdown",
   "metadata": {},
   "source": [
    "## Improvement 2: Reduce learning rate from 0.001 to 0.0001"
   ]
  },
  {
   "cell_type": "markdown",
   "metadata": {},
   "source": [
    "#### STEP 5: Compile Model : Configures model for training\n",
    "from tensorflow.keras.optimizers import Adam\n",
    "\n",
    "model.compile(loss='categorical_crossentropy', optimizer=Adam(lr=0.0001), metrics=['accuracy'])\n",
    "\n",
    "print('lr: ', tf.keras.backend.eval(model.optimizer.lr))"
   ]
  },
  {
   "cell_type": "code",
   "execution_count": 160,
   "metadata": {},
   "outputs": [
    {
     "name": "stdout",
     "output_type": "stream",
     "text": [
      "Train on 50000 samples, validate on 10000 samples\n",
      "Epoch 1/10\n",
      "50000/50000 [==============================] - 1132s 23ms/sample - loss: 0.0162 - accuracy: 0.9948 - val_loss: 0.9711 - val_accuracy: 0.8153\n",
      "Epoch 2/10\n",
      "50000/50000 [==============================] - 1078s 22ms/sample - loss: 0.0056 - accuracy: 0.9987 - val_loss: 1.0257 - val_accuracy: 0.8183\n",
      "Epoch 3/10\n",
      "50000/50000 [==============================] - 1151s 23ms/sample - loss: 0.0034 - accuracy: 0.9993 - val_loss: 1.0648 - val_accuracy: 0.8178\n",
      "Epoch 4/10\n",
      "50000/50000 [==============================] - 1115s 22ms/sample - loss: 0.0025 - accuracy: 0.9996 - val_loss: 1.1137 - val_accuracy: 0.8195\n",
      "Epoch 5/10\n",
      "50000/50000 [==============================] - 1076s 22ms/sample - loss: 0.0017 - accuracy: 0.9996 - val_loss: 1.1440 - val_accuracy: 0.8197\n",
      "Epoch 6/10\n",
      "50000/50000 [==============================] - 1090s 22ms/sample - loss: 0.0016 - accuracy: 0.9996 - val_loss: 1.1778 - val_accuracy: 0.8173\n",
      "Epoch 7/10\n",
      "50000/50000 [==============================] - 1131s 23ms/sample - loss: 0.0016 - accuracy: 0.9996 - val_loss: 1.2554 - val_accuracy: 0.8165\n",
      "Epoch 8/10\n",
      "50000/50000 [==============================] - 1084s 22ms/sample - loss: 0.0014 - accuracy: 0.9997 - val_loss: 1.2271 - val_accuracy: 0.8186\n",
      "Epoch 9/10\n",
      "50000/50000 [==============================] - 1150s 23ms/sample - loss: 0.0013 - accuracy: 0.9997 - val_loss: 1.2352 - val_accuracy: 0.8214\n",
      "Epoch 10/10\n",
      "50000/50000 [==============================] - 1148s 23ms/sample - loss: 8.9174e-04 - accuracy: 0.9998 - val_loss: 1.2828 - val_accuracy: 0.8234\n"
     ]
    }
   ],
   "source": [
    "# STEP 6: Train/Fit Model\n",
    "\n",
    "history = model.fit(X_train, y_train,\n",
    "              batch_size=batch_size,\n",
    "              epochs=epochs,\n",
    "              validation_data=(X_test, y_test),\n",
    "              callbacks=[tensorboard_callback])"
   ]
  },
  {
   "cell_type": "code",
   "execution_count": 161,
   "metadata": {},
   "outputs": [
    {
     "data": {
      "text/plain": [
       "Reusing TensorBoard on port 6006 (pid 14248), started 1 day, 17:51:04 ago. (Use '!kill 14248' to kill it.)"
      ]
     },
     "metadata": {},
     "output_type": "display_data"
    },
    {
     "data": {
      "text/html": [
       "\n",
       "      <iframe id=\"tensorboard-frame-912ae9a2a940d394\" width=\"100%\" height=\"800\" frameborder=\"0\">\n",
       "      </iframe>\n",
       "      <script>\n",
       "        (function() {\n",
       "          const frame = document.getElementById(\"tensorboard-frame-912ae9a2a940d394\");\n",
       "          const url = new URL(\"/\", window.location);\n",
       "          url.port = 6006;\n",
       "          frame.src = url;\n",
       "        })();\n",
       "      </script>\n",
       "  "
      ],
      "text/plain": [
       "<IPython.core.display.HTML object>"
      ]
     },
     "metadata": {},
     "output_type": "display_data"
    }
   ],
   "source": [
    "%tensorboard --logdir logs"
   ]
  },
  {
   "cell_type": "code",
   "execution_count": 162,
   "metadata": {},
   "outputs": [
    {
     "data": {
      "image/png": "[encoded data removed]",
      "text/plain": [
       "<Figure size 432x288 with 1 Axes>"
      ]
     },
     "metadata": {},
     "output_type": "display_data"
    }
   ],
   "source": [
    "# Plot Accuracy\n",
    "plotAccuracy(history)"
   ]
  },
  {
   "cell_type": "code",
   "execution_count": 163,
   "metadata": {},
   "outputs": [
    {
     "data": {
      "image/png": "[encoded data removed]",
      "text/plain": [
       "<Figure size 432x288 with 1 Axes>"
      ]
     },
     "metadata": {},
     "output_type": "display_data"
    }
   ],
   "source": [
    "# Plot losses\n",
    "plotLosses(history)"
   ]
  },
  {
   "cell_type": "code",
   "execution_count": 164,
   "metadata": {},
   "outputs": [],
   "source": [
    "# Evaluate model\n",
    "score = model.evaluate(X_test, y_test, batch_size=batch_size, verbose=0)"
   ]
  },
  {
   "cell_type": "code",
   "execution_count": 165,
   "metadata": {},
   "outputs": [
    {
     "name": "stdout",
     "output_type": "stream",
     "text": [
      "['loss', 'accuracy']\n",
      "[1.2828062757194043, 0.8234]\n"
     ]
    }
   ],
   "source": [
    "# Predict score\n",
    "print(model.metrics_names)\n",
    "print(score)"
   ]
  },
  {
   "cell_type": "markdown",
   "metadata": {},
   "source": [
    "### Analysis\n",
    "\n",
    "- Training reached 100% accuracy, it means model won't improve further by training more since it won't get any gradient\n",
    "- CIFAR-10 dataset is less with only 50000 images for training.\n",
    "- Validation accuracy improved by 9% to 82.3%\n",
    "- Training time increased to 18 min/epoch"
   ]
  },
  {
   "cell_type": "markdown",
   "metadata": {},
   "source": [
    "## Improvement 3: Apply data augmentation - rotation, width shift range, height shift range, horizontal flip"
   ]
  },
  {
   "cell_type": "code",
   "execution_count": 166,
   "metadata": {},
   "outputs": [],
   "source": [
    "# Data augmentation\n",
    "\n",
    "from tensorflow.keras.preprocessing.image import ImageDataGenerator\n",
    "\n",
    "datagen = ImageDataGenerator(\n",
    "    rotation_range=15,\n",
    "    width_shift_range=0.1,\n",
    "    height_shift_range=0.1,\n",
    "    horizontal_flip=True,\n",
    "    )\n",
    "datagen.fit(X_train)"
   ]
  },
  {
   "cell_type": "code",
   "execution_count": 167,
   "metadata": {},
   "outputs": [
    {
     "name": "stdout",
     "output_type": "stream",
     "text": [
      "lr:  1e-04\n"
     ]
    }
   ],
   "source": [
    "# Compile model\n",
    "from tensorflow.keras.optimizers import Adam\n",
    "\n",
    "model.compile(loss='categorical_crossentropy', optimizer=Adam(lr=0.0001), metrics=['accuracy'])\n",
    "\n",
    "print('lr: ', tf.keras.backend.eval(model.optimizer.lr))"
   ]
  },
  {
   "cell_type": "code",
   "execution_count": 169,
   "metadata": {},
   "outputs": [
    {
     "name": "stdout",
     "output_type": "stream",
     "text": [
      "Epoch 1/10\n",
      "1562/1562 [==============================] - 2211s 1s/step - loss: 0.8404 - accuracy: 0.8262 - val_loss: 0.7570 - val_accuracy: 0.8091\n",
      "Epoch 2/10\n",
      "1562/1562 [==============================] - 2365s 2s/step - loss: 0.5453 - accuracy: 0.8302 - val_loss: 0.6289 - val_accuracy: 0.8102\n",
      "Epoch 3/10\n",
      "1562/1562 [==============================] - 2318s 1s/step - loss: 0.4943 - accuracy: 0.8340 - val_loss: 0.5680 - val_accuracy: 0.8199\n",
      "Epoch 4/10\n",
      "1562/1562 [==============================] - 2165s 1s/step - loss: 0.4730 - accuracy: 0.8413 - val_loss: 0.5874 - val_accuracy: 0.8128\n",
      "Epoch 5/10\n",
      "1562/1562 [==============================] - 2179s 1s/step - loss: 0.4560 - accuracy: 0.8466 - val_loss: 0.5309 - val_accuracy: 0.8297\n",
      "Epoch 6/10\n",
      "1562/1562 [==============================] - 2185s 1s/step - loss: 0.4426 - accuracy: 0.8498 - val_loss: 0.5469 - val_accuracy: 0.8203\n",
      "Epoch 7/10\n",
      "1562/1562 [==============================] - 2183s 1s/step - loss: 0.4327 - accuracy: 0.8544 - val_loss: 0.5501 - val_accuracy: 0.8216\n",
      "Epoch 8/10\n",
      "1562/1562 [==============================] - 2183s 1s/step - loss: 0.4143 - accuracy: 0.8596 - val_loss: 0.5338 - val_accuracy: 0.8278\n",
      "Epoch 9/10\n",
      "1562/1562 [==============================] - 2182s 1s/step - loss: 0.4177 - accuracy: 0.8590 - val_loss: 0.5175 - val_accuracy: 0.8292\n",
      "Epoch 10/10\n",
      "1562/1562 [==============================] - 2191s 1s/step - loss: 0.4043 - accuracy: 0.8614 - val_loss: 0.5008 - val_accuracy: 0.8351\n"
     ]
    },
    {
     "data": {
      "text/plain": [
       "<tensorflow.python.keras.callbacks.History at 0x19458a1aa20>"
      ]
     },
     "execution_count": 169,
     "metadata": {},
     "output_type": "execute_result"
    }
   ],
   "source": [
    "# Train/Fit model\n",
    "\n",
    "model.fit_generator(datagen.flow(X_train, y_train, batch_size=batch_size),\\\n",
    "                    steps_per_epoch=X_train.shape[0] // batch_size,epochs=epochs,\\\n",
    "                    verbose=1,validation_data=(X_test,y_test),callbacks=[tensorboard_callback])\n"
   ]
  },
  {
   "cell_type": "code",
   "execution_count": 170,
   "metadata": {},
   "outputs": [
    {
     "data": {
      "text/plain": [
       "Reusing TensorBoard on port 6006 (pid 14248), started 2 days, 5:12:58 ago. (Use '!kill 14248' to kill it.)"
      ]
     },
     "metadata": {},
     "output_type": "display_data"
    },
    {
     "data": {
      "text/html": [
       "\n",
       "      <iframe id=\"tensorboard-frame-233734a7174e1855\" width=\"100%\" height=\"800\" frameborder=\"0\">\n",
       "      </iframe>\n",
       "      <script>\n",
       "        (function() {\n",
       "          const frame = document.getElementById(\"tensorboard-frame-233734a7174e1855\");\n",
       "          const url = new URL(\"/\", window.location);\n",
       "          url.port = 6006;\n",
       "          frame.src = url;\n",
       "        })();\n",
       "      </script>\n",
       "  "
      ],
      "text/plain": [
       "<IPython.core.display.HTML object>"
      ]
     },
     "metadata": {},
     "output_type": "display_data"
    }
   ],
   "source": [
    "%tensorboard --logdir logs"
   ]
  },
  {
   "cell_type": "code",
   "execution_count": 171,
   "metadata": {},
   "outputs": [
    {
     "data": {
      "image/png": "[encoded data removed]",
      "text/plain": [
       "<Figure size 432x288 with 1 Axes>"
      ]
     },
     "metadata": {},
     "output_type": "display_data"
    }
   ],
   "source": [
    "# Plot Accuracy\n",
    "plotAccuracy(history)"
   ]
  },
  {
   "cell_type": "code",
   "execution_count": 172,
   "metadata": {},
   "outputs": [
    {
     "data": {
      "image/png": "[encoded data removed]",
      "text/plain": [
       "<Figure size 432x288 with 1 Axes>"
      ]
     },
     "metadata": {},
     "output_type": "display_data"
    }
   ],
   "source": [
    "# Plot losses\n",
    "plotLosses(history)"
   ]
  },
  {
   "cell_type": "code",
   "execution_count": 173,
   "metadata": {},
   "outputs": [],
   "source": [
    "# Evaluate model\n",
    "score = model.evaluate(X_test, y_test, batch_size=batch_size, verbose=0)"
   ]
  },
  {
   "cell_type": "code",
   "execution_count": 174,
   "metadata": {},
   "outputs": [
    {
     "name": "stdout",
     "output_type": "stream",
     "text": [
      "['loss', 'accuracy']\n",
      "[0.5014716332197189, 0.8351]\n"
     ]
    }
   ],
   "source": [
    "# Predict score\n",
    "print(model.metrics_names)\n",
    "print(score)"
   ]
  },
  {
   "cell_type": "markdown",
   "metadata": {},
   "source": [
    "### Analysis\n",
    "\n",
    "- Validation accuracy improved by 1% only\n",
    "- Training time increased to 35 mins\n",
    "- Data augmentation has no significant impact"
   ]
  },
  {
   "cell_type": "markdown",
   "metadata": {},
   "source": [
    "## Improvement 4: Apply data augmentation: height_shift_range, horizontal_flip, zoom"
   ]
  },
  {
   "cell_type": "code",
   "execution_count": 200,
   "metadata": {},
   "outputs": [],
   "source": [
    "# Data augmentation\n",
    "\n",
    "from tensorflow.keras.preprocessing.image import ImageDataGenerator\n",
    "\n",
    "datagen = ImageDataGenerator(\n",
    "    height_shift_range=0.1,\n",
    "    horizontal_flip=True,\n",
    "    zoom_range=[0.5,1.0]\n",
    "    )\n",
    "datagen.fit(X_train)"
   ]
  },
  {
   "cell_type": "code",
   "execution_count": 201,
   "metadata": {},
   "outputs": [
    {
     "name": "stdout",
     "output_type": "stream",
     "text": [
      "lr:  1e-04\n"
     ]
    }
   ],
   "source": [
    "# Compile model\n",
    "from tensorflow.keras.optimizers import Adam\n",
    "\n",
    "model.compile(loss='categorical_crossentropy', optimizer=Adam(lr=0.0001), metrics=['accuracy'])\n",
    "\n",
    "print('lr: ', tf.keras.backend.eval(model.optimizer.lr))"
   ]
  },
  {
   "cell_type": "code",
   "execution_count": 202,
   "metadata": {},
   "outputs": [
    {
     "name": "stdout",
     "output_type": "stream",
     "text": [
      "Epoch 1/10\n",
      "1562/1562 [==============================] - 2463s 2s/step - loss: 1.7023 - accuracy: 0.3833 - val_loss: 1.7120 - val_accuracy: 0.3903\n",
      "Epoch 2/10\n",
      "1562/1562 [==============================] - 2462s 2s/step - loss: 1.4522 - accuracy: 0.4797 - val_loss: 1.4904 - val_accuracy: 0.4665\n",
      "Epoch 3/10\n",
      "1562/1562 [==============================] - 2491s 2s/step - loss: 1.3216 - accuracy: 0.5292 - val_loss: 2.0845 - val_accuracy: 0.3862\n",
      "Epoch 4/10\n",
      "1562/1562 [==============================] - 2434s 2s/step - loss: 1.2135 - accuracy: 0.5704 - val_loss: 1.3827 - val_accuracy: 0.5400\n",
      "Epoch 5/10\n",
      "1562/1562 [==============================] - 2517s 2s/step - loss: 1.1335 - accuracy: 0.6005 - val_loss: 1.2590 - val_accuracy: 0.5625\n",
      "Epoch 6/10\n",
      "1562/1562 [==============================] - 2412s 2s/step - loss: 1.0652 - accuracy: 0.6267 - val_loss: 1.2783 - val_accuracy: 0.5632\n",
      "Epoch 7/10\n",
      "1562/1562 [==============================] - 2179s 1s/step - loss: 1.0043 - accuracy: 0.6469 - val_loss: 1.1670 - val_accuracy: 0.6036\n",
      "Epoch 8/10\n",
      "1562/1562 [==============================] - 2279s 1s/step - loss: 0.9611 - accuracy: 0.6643 - val_loss: 1.3104 - val_accuracy: 0.5723\n",
      "Epoch 9/10\n",
      "1562/1562 [==============================] - 2269s 1s/step - loss: 0.9107 - accuracy: 0.6807 - val_loss: 1.2698 - val_accuracy: 0.6045\n",
      "Epoch 10/10\n",
      "1562/1562 [==============================] - 2223s 1s/step - loss: 0.8744 - accuracy: 0.6941 - val_loss: 1.1511 - val_accuracy: 0.6199\n"
     ]
    },
    {
     "data": {
      "text/plain": [
       "<tensorflow.python.keras.callbacks.History at 0x19439ff37b8>"
      ]
     },
     "execution_count": 202,
     "metadata": {},
     "output_type": "execute_result"
    }
   ],
   "source": [
    "# Train/Fit model\n",
    "\n",
    "model.fit_generator(datagen.flow(X_train, y_train, batch_size=batch_size),\\\n",
    "                    steps_per_epoch=X_train.shape[0] // batch_size,epochs=epochs,\\\n",
    "                    verbose=1,validation_data=(X_test,y_test),callbacks=[tensorboard_callback])"
   ]
  },
  {
   "cell_type": "code",
   "execution_count": 203,
   "metadata": {},
   "outputs": [
    {
     "data": {
      "text/plain": [
       "Reusing TensorBoard on port 6006 (pid 14248), started 2 days, 15:07:03 ago. (Use '!kill 14248' to kill it.)"
      ]
     },
     "metadata": {},
     "output_type": "display_data"
    },
    {
     "data": {
      "text/html": [
       "\n",
       "      <iframe id=\"tensorboard-frame-430f9cf7b2acf35c\" width=\"100%\" height=\"800\" frameborder=\"0\">\n",
       "      </iframe>\n",
       "      <script>\n",
       "        (function() {\n",
       "          const frame = document.getElementById(\"tensorboard-frame-430f9cf7b2acf35c\");\n",
       "          const url = new URL(\"/\", window.location);\n",
       "          url.port = 6006;\n",
       "          frame.src = url;\n",
       "        })();\n",
       "      </script>\n",
       "  "
      ],
      "text/plain": [
       "<IPython.core.display.HTML object>"
      ]
     },
     "metadata": {},
     "output_type": "display_data"
    }
   ],
   "source": [
    "%tensorboard --logdir logs"
   ]
  },
  {
   "cell_type": "code",
   "execution_count": 204,
   "metadata": {},
   "outputs": [
    {
     "data": {
      "image/png": "[encoded data removed]",
      "text/plain": [
       "<Figure size 432x288 with 1 Axes>"
      ]
     },
     "metadata": {},
     "output_type": "display_data"
    }
   ],
   "source": [
    "# Plot Accuracy\n",
    "plotAccuracy(history)"
   ]
  },
  {
   "cell_type": "code",
   "execution_count": 205,
   "metadata": {},
   "outputs": [
    {
     "data": {
      "image/png": "[encoded data removed]",
      "text/plain": [
       "<Figure size 432x288 with 1 Axes>"
      ]
     },
     "metadata": {},
     "output_type": "display_data"
    }
   ],
   "source": [
    "# Plot losses\n",
    "plotLosses(history)"
   ]
  },
  {
   "cell_type": "code",
   "execution_count": 206,
   "metadata": {},
   "outputs": [],
   "source": [
    "# Evaluate model\n",
    "score = model.evaluate(X_test, y_test, batch_size=batch_size, verbose=0)"
   ]
  },
  {
   "cell_type": "code",
   "execution_count": 207,
   "metadata": {},
   "outputs": [
    {
     "name": "stdout",
     "output_type": "stream",
     "text": [
      "['loss', 'accuracy']\n",
      "[1.1510911346435546, 0.6199]\n"
     ]
    }
   ],
   "source": [
    "# Predict score\n",
    "print(model.metrics_names)\n",
    "print(score)"
   ]
  },
  {
   "cell_type": "code",
   "execution_count": null,
   "metadata": {},
   "outputs": [],
   "source": []
  }
 ],
 "metadata": {
  "kernelspec": {
   "display_name": "Python 3",
   "language": "python",
   "name": "python3"
  },
  "language_info": {
   "codemirror_mode": {
    "name": "ipython",
    "version": 3
   },
   "file_extension": ".py",
   "mimetype": "text/x-python",
   "name": "python",
   "nbconvert_exporter": "python",
   "pygments_lexer": "ipython3",
   "version": "3.6.4"
  }
 },
 "nbformat": 4,
 "nbformat_minor": 2
}
