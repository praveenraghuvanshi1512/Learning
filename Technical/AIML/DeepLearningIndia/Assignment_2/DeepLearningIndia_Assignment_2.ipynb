{
 "cells": [
  {
   "cell_type": "markdown",
   "metadata": {},
   "source": [
    "# Deep Learning India - Assignment 2 : CIFAR-10 using Densenet"
   ]
  },
  {
   "cell_type": "markdown",
   "metadata": {},
   "source": [
    "##### **Problem** : Achieve an accuracy beyond 85% for a Image classification using CIFAR-10 dataset based on [Densenet](https://arxiv.org/pdf/1608.06993.pdf) paper"
   ]
  },
  {
   "cell_type": "markdown",
   "metadata": {},
   "source": [
    "##### Sample CIFAR-10 dataset\n",
    "\n",
    "![CIFAR-10 Dataset](https://github.com/praveenraghuvanshi1512/Learning/blob/DeepLearningIndia_VV/Technical/AIML/DeepLearningIndia/Assignment_2/images/cifar2.jpg?raw=true)"
   ]
  },
  {
   "cell_type": "markdown",
   "metadata": {},
   "source": [
    "### Steps ###\n",
    "1. Initial Setup and configuration\n",
    "2. Load CIFAR-10 dataset\n",
    "3. Prepare Data\n",
    "4. Create model pipeline\n",
    "5. Compile Model\n",
    "6. Train/Fit Model\n",
    "7. Evaluate Model"
   ]
  },
  {
   "cell_type": "markdown",
   "metadata": {},
   "source": [
    "### Step 1: Initial Setup and Configuration\n",
    "\n",
    "    1.1 Set Keras backend\n",
    "    1.2 Enable intellisense in jupyter notebook\n",
    "    1.3 Initialize tensorboard\n",
    "    1.4 Utility functions\n",
    "        1.4.1 Display Images\n",
    "        1.4.2 Plot Accuracy\n",
    "        1.4.3 Plot Losses"
   ]
  },
  {
   "cell_type": "code",
   "execution_count": 22,
   "metadata": {},
   "outputs": [
    {
     "name": "stdout",
     "output_type": "stream",
     "text": [
      "tensorflow version:  2.0.0\n",
      "The tensorboard extension is already loaded. To reload it, use:\n",
      "  %reload_ext tensorboard\n"
     ]
    }
   ],
   "source": [
    "# STEP 1: Initial Setup and Configuration\n",
    "\n",
    "# 1.1 Set keras backend\n",
    "from keras import backend as k\n",
    "import os\n",
    "import importlib\n",
    "\n",
    "def set_keras_backend(backend):\n",
    "    if k.backend() != backend:\n",
    "        os.environ['KERAS_BACKEND'] = backend\n",
    "        importlib.reload(k)\n",
    "        assert k.backend() == backend\n",
    "\n",
    "set_keras_backend(\"tensorflow\")\n",
    "\n",
    "if k.backend() == 'tensorflow':\n",
    "    import tensorflow as tf\n",
    "    print('tensorflow version: ', tf.__version__)\n",
    "    \n",
    "# 1.2 Enable intellisense in jupyter notebook\n",
    "%config IPCompleter.greedy=True\n",
    "\n",
    "# 1.3 Initialize Tensorboard\n",
    "from datetime import datetime\n",
    "\n",
    "# Define the Keras TensorBoard callback.\n",
    "logdir = os.path.join(\n",
    "    \"logs\",\n",
    "    \"fit\",\n",
    "    datetime.now().strftime(\"%Y%m%d-%H%M%S\"),\n",
    ")\n",
    "tensorboard_callback = tf.keras.callbacks.TensorBoard(log_dir=logdir)\n",
    "\n",
    "%load_ext tensorboard"
   ]
  },
  {
   "cell_type": "markdown",
   "metadata": {},
   "source": [
    "####  1.4 Utility Functions\n",
    "##### 1.4.1 Display Images"
   ]
  },
  {
   "cell_type": "code",
   "execution_count": 23,
   "metadata": {},
   "outputs": [],
   "source": [
    "# Utility functions\n",
    "\n",
    "from matplotlib import pyplot\n",
    "from PIL import Image\n",
    "\n",
    "# Display images\n",
    "def show_images(x):\n",
    "    pyplot.figure(1)\n",
    "    k = 0\n",
    "    for i in range(0, 4):\n",
    "        for j in range(0, 4):\n",
    "            pyplot.subplot2grid((4, 4), (i, j))\n",
    "            pyplot.imshow(Image.fromarray(x[k]))\n",
    "            k = k + 1\n",
    "    # Show the plot\n",
    "    pyplot.show()"
   ]
  },
  {
   "cell_type": "markdown",
   "metadata": {},
   "source": [
    "#### 1.4.2 Plot Accuracy"
   ]
  },
  {
   "cell_type": "code",
   "execution_count": 24,
   "metadata": {},
   "outputs": [],
   "source": [
    "import keras\n",
    "from matplotlib import pyplot as plt\n",
    "\n",
    "def plotAccuracy(history):\n",
    "    plt.plot(history.history['accuracy'])\n",
    "    plt.plot(history.history['val_accuracy'])\n",
    "    plt.title('model accuracy')\n",
    "    plt.ylabel('accuracy')\n",
    "    plt.xlabel('epoch')\n",
    "    plt.legend(['train', 'validation'], loc='upper left')\n",
    "    plt.show()"
   ]
  },
  {
   "cell_type": "markdown",
   "metadata": {},
   "source": [
    "##### 1.4.3 Plot losses"
   ]
  },
  {
   "cell_type": "code",
   "execution_count": 25,
   "metadata": {},
   "outputs": [],
   "source": [
    "# Plot Losses\n",
    "import matplotlib.pyplot as plt\n",
    "\n",
    "def plotLosses(history):  \n",
    "    plt.plot(history.history['loss'])\n",
    "    plt.plot(history.history['val_loss'])\n",
    "    plt.title('model loss')\n",
    "    plt.ylabel('loss')\n",
    "    plt.xlabel('epoch')\n",
    "    plt.legend(['train', 'validation'], loc='upper left')\n",
    "    plt.show()"
   ]
  },
  {
   "cell_type": "markdown",
   "metadata": {},
   "source": [
    "### Step 2: Load CIFAR-10 dataset"
   ]
  },
  {
   "cell_type": "code",
   "execution_count": 26,
   "metadata": {},
   "outputs": [],
   "source": [
    "# Step 2: Load CIFAR-10 dataset\n",
    "from keras.datasets import cifar10\n",
    "\n",
    "(X_train, y_train), (X_test, y_test) = cifar10.load_data();"
   ]
  },
  {
   "cell_type": "markdown",
   "metadata": {},
   "source": [
    "##### Examining Dataset"
   ]
  },
  {
   "cell_type": "code",
   "execution_count": 27,
   "metadata": {},
   "outputs": [
    {
     "name": "stdout",
     "output_type": "stream",
     "text": [
      "(50000, 32, 32, 3)\n",
      "(10000, 32, 32, 3)\n",
      "(50000, 1)\n",
      "(10000, 1)\n"
     ]
    }
   ],
   "source": [
    "print(X_train.shape)\n",
    "print(X_test.shape)\n",
    "print(y_train.shape)\n",
    "print(y_test.shape)"
   ]
  },
  {
   "cell_type": "markdown",
   "metadata": {},
   "source": [
    "- There are 50000 training and 10000 testing images\n",
    "- CIFAR-10 dataset has color images of shape(width, height, channels) : 32 x 32 x 3\n",
    "- No of channels for a colored image : 3(Red + Green + Blue)\n",
    "- No of classes : 10 - Type of objects in images such as airplane, bird, truck etc."
   ]
  },
  {
   "cell_type": "code",
   "execution_count": 28,
   "metadata": {
    "scrolled": true
   },
   "outputs": [
    {
     "data": {
      "image/png": "[encoded data removed]",
      "text/plain": [
       "<Figure size 432x288 with 16 Axes>"
      ]
     },
     "metadata": {},
     "output_type": "display_data"
    }
   ],
   "source": [
    "# Display first 16 images\n",
    "\n",
    "show_images(X_test[:16])"
   ]
  },
  {
   "cell_type": "markdown",
   "metadata": {},
   "source": [
    "### Step 3: Prepare data"
   ]
  },
  {
   "cell_type": "code",
   "execution_count": 29,
   "metadata": {},
   "outputs": [],
   "source": [
    "# Intialize variables\n",
    "num_classes = 10\n",
    "max_pixel_value = 255\n",
    "kernel_size = (3, 3)\n",
    "input_filters = 64\n",
    "\n",
    "# Input shape is a tensor of image.\n",
    "# CIFAR-10 has images of dimension (witdth * height * channels[Red, Green, Blue]) as 32 x 32 x 3\n",
    "input_shape = (32, 32, 3) \n",
    "\n",
    "batch_size = 32\n",
    "epochs = 10"
   ]
  },
  {
   "cell_type": "code",
   "execution_count": 30,
   "metadata": {},
   "outputs": [
    {
     "name": "stdout",
     "output_type": "stream",
     "text": [
      "[0. 0. 0. 0. 0. 0. 1. 0. 0. 0.]\n"
     ]
    }
   ],
   "source": [
    "# STEP 3: Prepare Data\n",
    "\n",
    "from keras.utils import np_utils\n",
    "import numpy as np\n",
    "\n",
    "# Converting unsigned integers to 32-bit float precision\n",
    "# so that it can be better utilized during normalization such as diving by max pixel value of 255\n",
    "X_train = X_train.astype(np.float32)\n",
    "X_test =  X_test.astype(np.float32)\n",
    "\n",
    "# Normalization of pixel values (to [0-1] range)\n",
    "X_train /= max_pixel_value\n",
    "X_test /= max_pixel_value\n",
    "\n",
    "# Convert class vectors to binary class matrices\n",
    "y_train = np_utils.to_categorical(y_train,num_classes)\n",
    "y_test = np_utils.to_categorical(y_test,num_classes)\n",
    "\n",
    "print(y_train[0])"
   ]
  },
  {
   "cell_type": "markdown",
   "metadata": {},
   "source": [
    "##### Examining Dataset"
   ]
  },
  {
   "cell_type": "code",
   "execution_count": 31,
   "metadata": {},
   "outputs": [
    {
     "name": "stdout",
     "output_type": "stream",
     "text": [
      "(50000, 32, 32, 3) X_train\n",
      "(10000, 32, 32, 3) X_test\n",
      "(50000, 10) y_train\n",
      "(10000, 10) y_train\n"
     ]
    }
   ],
   "source": [
    "print(X_train.shape, \"X_train\")\n",
    "print(X_test.shape, \"X_test\")\n",
    "print(y_train.shape,\"y_train\")\n",
    "print(y_test.shape, \"y_train\")"
   ]
  },
  {
   "cell_type": "code",
   "execution_count": 32,
   "metadata": {},
   "outputs": [
    {
     "name": "stdout",
     "output_type": "stream",
     "text": [
      "X_train[0] :\n",
      " [[[0.23137255 0.24313726 0.24705882]\n",
      "  [0.16862746 0.18039216 0.1764706 ]\n",
      "  [0.19607843 0.1882353  0.16862746]\n",
      "  ...\n",
      "  [0.61960787 0.5176471  0.42352942]\n",
      "  [0.59607846 0.49019608 0.4       ]\n",
      "  [0.5803922  0.4862745  0.40392157]]\n",
      "\n",
      " [[0.0627451  0.07843138 0.07843138]\n",
      "  [0.         0.         0.        ]\n",
      "  [0.07058824 0.03137255 0.        ]\n",
      "  ...\n",
      "  [0.48235294 0.34509805 0.21568628]\n",
      "  [0.46666667 0.3254902  0.19607843]\n",
      "  [0.47843137 0.34117648 0.22352941]]\n",
      "\n",
      " [[0.09803922 0.09411765 0.08235294]\n",
      "  [0.0627451  0.02745098 0.        ]\n",
      "  [0.19215687 0.10588235 0.03137255]\n",
      "  ...\n",
      "  [0.4627451  0.32941177 0.19607843]\n",
      "  [0.47058824 0.32941177 0.19607843]\n",
      "  [0.42745098 0.28627452 0.16470589]]\n",
      "\n",
      " ...\n",
      "\n",
      " [[0.8156863  0.6666667  0.3764706 ]\n",
      "  [0.7882353  0.6        0.13333334]\n",
      "  [0.7764706  0.6313726  0.10196079]\n",
      "  ...\n",
      "  [0.627451   0.52156866 0.27450982]\n",
      "  [0.21960784 0.12156863 0.02745098]\n",
      "  [0.20784314 0.13333334 0.07843138]]\n",
      "\n",
      " [[0.7058824  0.54509807 0.3764706 ]\n",
      "  [0.6784314  0.48235294 0.16470589]\n",
      "  [0.7294118  0.5647059  0.11764706]\n",
      "  ...\n",
      "  [0.72156864 0.5803922  0.36862746]\n",
      "  [0.38039216 0.24313726 0.13333334]\n",
      "  [0.3254902  0.20784314 0.13333334]]\n",
      "\n",
      " [[0.69411767 0.5647059  0.45490196]\n",
      "  [0.65882355 0.5058824  0.36862746]\n",
      "  [0.7019608  0.5568628  0.34117648]\n",
      "  ...\n",
      "  [0.84705883 0.72156864 0.54901963]\n",
      "  [0.5921569  0.4627451  0.32941177]\n",
      "  [0.48235294 0.36078432 0.28235295]]]\n",
      "\n",
      "\n",
      "y_train[0] :\n",
      " [0. 0. 0. 0. 0. 0. 1. 0. 0. 0.]\n"
     ]
    }
   ],
   "source": [
    "print('X_train[0] :\\n', X_train[0])\n",
    "print('\\n')\n",
    "print('y_train[0] :\\n', y_train[0:1][0])"
   ]
  },
  {
   "cell_type": "markdown",
   "metadata": {},
   "source": [
    "### Step 4: Create Model Pipeline - Basic CNN"
   ]
  },
  {
   "cell_type": "code",
   "execution_count": 33,
   "metadata": {},
   "outputs": [
    {
     "name": "stdout",
     "output_type": "stream",
     "text": [
      "Model: \"sequential_1\"\n",
      "_________________________________________________________________\n",
      "Layer (type)                 Output Shape              Param #   \n",
      "=================================================================\n",
      "conv2d_2 (Conv2D)            (None, 30, 30, 64)        1792      \n",
      "_________________________________________________________________\n",
      "conv2d_3 (Conv2D)            (None, 28, 28, 32)        18464     \n",
      "_________________________________________________________________\n",
      "flatten_1 (Flatten)          (None, 25088)             0         \n",
      "_________________________________________________________________\n",
      "dense_1 (Dense)              (None, 10)                250890    \n",
      "=================================================================\n",
      "Total params: 271,146\n",
      "Trainable params: 271,146\n",
      "Non-trainable params: 0\n",
      "_________________________________________________________________\n"
     ]
    }
   ],
   "source": [
    "# STEP 4: Create Model pipeline\n",
    "\n",
    "# Learned parameter calculation :\\n\",\n",
    "# https://www.youtube.com/watch?v=gmBfb6LNnZs\\n\",\n",
    "# No of parameters = (Previous layer channels * Current layer filters * kernel) + bias(current filter count)\n",
    "\n",
    "from tensorflow.keras.models import Sequential\n",
    "from tensorflow.keras.layers import Dense, Conv2D, Flatten\n",
    "\n",
    "# Create model - Input Layer\n",
    "# Learned Parameters: 0 . No parameters to be learned in input layer\n",
    "model = Sequential()\n",
    "\n",
    "# Now we'll add hidden layers\n",
    "\n",
    "# First Convolution layer : filters: 64, kernel size: 3x3 \n",
    "# Learned Parameters: (3 * 64 * 3 * 3) + 64 = 1792\n",
    "model.add(Conv2D(input_filters, kernel_size=kernel_size, activation='relu', input_shape=input_shape))\n",
    "\n",
    "# Second Convolution layer: filters: 32, kernel size: 3x3\n",
    "# Learned Parameters: (64 * 32 * 3 * 3) + 32 = 18464\n",
    "model.add(Conv2D(32, kernel_size=kernel_size, activation='relu'))\n",
    "\n",
    "# Flatten modifies the dimension of a tensor to a vector\n",
    "# Output shape : 28 * 28 * 32 = 25088\n",
    "# Learned Parameters: 0. No parameters are learned here as we are just changing the dimension\n",
    "model.add(Flatten())\n",
    "\n",
    "# Dense layer - Its a fully connected layer where all neurons from previous are connected to all neurons in dense layer\n",
    "# Activation - These functions allows non-linear transformations to be performed on a given input which is a complex process\n",
    "# Learned Parameter: (25088 * 10) + 10 = 250890\",\n",
    "model.add(Dense(num_classes, activation='softmax'))\n",
    "\n",
    "model.summary()"
   ]
  },
  {
   "cell_type": "markdown",
   "metadata": {},
   "source": [
    "### Step 5: Compile Model - Configures model for training"
   ]
  },
  {
   "cell_type": "code",
   "execution_count": 34,
   "metadata": {
    "scrolled": true
   },
   "outputs": [],
   "source": [
    "# STEP 5: Compile Model : Configures model for training\n",
    "\n",
    "model.compile(loss='categorical_crossentropy', optimizer='Adam', metrics=['accuracy'])"
   ]
  },
  {
   "cell_type": "markdown",
   "metadata": {},
   "source": [
    "### Step 6: Train/Fit Model\n",
    "Save training loss and accuracy to history object for later visualization"
   ]
  },
  {
   "cell_type": "code",
   "execution_count": 35,
   "metadata": {
    "scrolled": true
   },
   "outputs": [
    {
     "name": "stdout",
     "output_type": "stream",
     "text": [
      "Train on 50000 samples, validate on 10000 samples\n",
      "Epoch 1/10\n",
      "50000/50000 [==============================] - 102s 2ms/sample - loss: 1.4273 - accuracy: 0.4924 - val_loss: 1.2139 - val_accuracy: 0.5756\n",
      "Epoch 2/10\n",
      "50000/50000 [==============================] - 98s 2ms/sample - loss: 1.1129 - accuracy: 0.6108 - val_loss: 1.1081 - val_accuracy: 0.6143\n",
      "Epoch 3/10\n",
      "50000/50000 [==============================] - 98s 2ms/sample - loss: 0.9654 - accuracy: 0.6650 - val_loss: 1.1163 - val_accuracy: 0.6081\n",
      "Epoch 4/10\n",
      "50000/50000 [==============================] - 104s 2ms/sample - loss: 0.8682 - accuracy: 0.6971 - val_loss: 1.1323 - val_accuracy: 0.6139\n",
      "Epoch 5/10\n",
      "50000/50000 [==============================] - 99s 2ms/sample - loss: 0.7810 - accuracy: 0.7289 - val_loss: 1.0674 - val_accuracy: 0.6411\n",
      "Epoch 6/10\n",
      "50000/50000 [==============================] - 98s 2ms/sample - loss: 0.7011 - accuracy: 0.7570 - val_loss: 1.1341 - val_accuracy: 0.6284\n",
      "Epoch 7/10\n",
      "50000/50000 [==============================] - 99s 2ms/sample - loss: 0.6247 - accuracy: 0.7833 - val_loss: 1.2090 - val_accuracy: 0.6151\n",
      "Epoch 8/10\n",
      "50000/50000 [==============================] - 103s 2ms/sample - loss: 0.5538 - accuracy: 0.8074 - val_loss: 1.2469 - val_accuracy: 0.6199\n",
      "Epoch 9/10\n",
      "50000/50000 [==============================] - 101s 2ms/sample - loss: 0.4906 - accuracy: 0.8305 - val_loss: 1.3524 - val_accuracy: 0.6171\n",
      "Epoch 10/10\n",
      "50000/50000 [==============================] - 102s 2ms/sample - loss: 0.4274 - accuracy: 0.8508 - val_loss: 1.4787 - val_accuracy: 0.6087\n"
     ]
    }
   ],
   "source": [
    "# STEP 6: Train/Fit Model\n",
    "\n",
    "history = model.fit(X_train, y_train,\n",
    "              batch_size=batch_size,\n",
    "              epochs=epochs,\n",
    "              validation_data=(X_test, y_test),\n",
    "              callbacks=[tensorboard_callback])"
   ]
  },
  {
   "cell_type": "markdown",
   "metadata": {},
   "source": [
    "##### Plot Accuracy and Losses\n",
    "\n",
    "References\n",
    "- https://stats.stackexchange.com/questions/292700/overfitting-in-neural-network\n",
    "\n",
    "![Interpret Model accuracy plot](https://i.stack.imgur.com/v4sP2.png)"
   ]
  },
  {
   "cell_type": "code",
   "execution_count": 37,
   "metadata": {},
   "outputs": [
    {
     "data": {
      "text/plain": [
       "Reusing TensorBoard on port 6006 (pid 14248), started 19:26:44 ago. (Use '!kill 14248' to kill it.)"
      ]
     },
     "metadata": {},
     "output_type": "display_data"
    },
    {
     "data": {
      "text/html": [
       "\n",
       "      <iframe id=\"tensorboard-frame-a9bccc21abc2aee4\" width=\"100%\" height=\"800\" frameborder=\"0\">\n",
       "      </iframe>\n",
       "      <script>\n",
       "        (function() {\n",
       "          const frame = document.getElementById(\"tensorboard-frame-a9bccc21abc2aee4\");\n",
       "          const url = new URL(\"/\", window.location);\n",
       "          url.port = 6006;\n",
       "          frame.src = url;\n",
       "        })();\n",
       "      </script>\n",
       "  "
      ],
      "text/plain": [
       "<IPython.core.display.HTML object>"
      ]
     },
     "metadata": {},
     "output_type": "display_data"
    }
   ],
   "source": [
    "%tensorboard --logdir logs"
   ]
  },
  {
   "cell_type": "code",
   "execution_count": 38,
   "metadata": {},
   "outputs": [
    {
     "data": {
      "image/png": "[encoded data removed]",
      "text/plain": [
       "<Figure size 432x288 with 1 Axes>"
      ]
     },
     "metadata": {},
     "output_type": "display_data"
    }
   ],
   "source": [
    "# Plot Accuracy\n",
    "plotAccuracy(history)"
   ]
  },
  {
   "cell_type": "code",
   "execution_count": 39,
   "metadata": {},
   "outputs": [
    {
     "data": {
      "image/png": "[encoded data removed]",
      "text/plain": [
       "<Figure size 432x288 with 1 Axes>"
      ]
     },
     "metadata": {},
     "output_type": "display_data"
    }
   ],
   "source": [
    "# Plot losses\n",
    "plotLosses(history)"
   ]
  },
  {
   "cell_type": "markdown",
   "metadata": {},
   "source": [
    "#### Analysis"
   ]
  },
  {
   "cell_type": "markdown",
   "metadata": {},
   "source": [
    "- Validation accuracy : 60.87%\n",
    "- Trainable parameters : 271,146\n",
    "- The training loss is decreasing, but validation loss is way above and increasing\n",
    "- Divergence between training and validation accuracy.\n",
    "- Model is overfitting"
   ]
  },
  {
   "cell_type": "markdown",
   "metadata": {},
   "source": [
    "### Step 7: Evaluate"
   ]
  },
  {
   "cell_type": "code",
   "execution_count": 40,
   "metadata": {},
   "outputs": [],
   "source": [
    "# Evaluate model\n",
    "score = model.evaluate(X_test, y_test, batch_size=batch_size, verbose=0)"
   ]
  },
  {
   "cell_type": "code",
   "execution_count": 41,
   "metadata": {},
   "outputs": [
    {
     "name": "stdout",
     "output_type": "stream",
     "text": [
      "['loss', 'accuracy']\n",
      "[1.4786773986816406, 0.6087]\n"
     ]
    }
   ],
   "source": [
    "print(model.metrics_names)\n",
    "print(score)"
   ]
  },
  {
   "cell_type": "markdown",
   "metadata": {},
   "source": [
    "### Observations\n",
    "\n",
    "Image classification using Convolutional Neural Network on CIFAR-10 dataset.\n",
    "\n",
    "- Convolutional Neural network(CNN) \n",
    "- Parameters reduced to 271,146 from 855,050 in Nultilayer perceptron(MLP) network\n",
    "- Training is fast even on CPU with 1.5 mins per epoch\n",
    "- Shareable parameters across layers\n",
    "- Better network\n",
    "- Suffering from Overfitting\n",
    "- [Overfitting plots](https://www.freecodecamp.org/news/how-to-build-your-first-neural-network-to-predict-house-prices-with-keras-f8db83049159/)\n",
    "- [Plot analysis](https://stats.stackexchange.com/questions/292700/overfitting-in-neural-network)"
   ]
  },
  {
   "cell_type": "markdown",
   "metadata": {},
   "source": [
    "### References\n",
    "\n",
    "- [CIFAR-10 Demo](http://home.mit.bme.hu/~hadhazi/Oktatas/NN18/dem3/html_demo/CIFAR-10Demo.html)\n",
    "- [Learnable Parametersin a Convolutional Neural Network(CNN) explained](https://www.youtube.com/watch?v=gmBfb6LNnZs)\n",
    "- [How to calculate the number of parameters in the CNN?](https://medium.com/@iamvarman/how-to-calculate-the-number-of-parameters-in-the-cnn-5bd55364d7ca#targetText=To%20calculate%20it%2C%20we%20have,3%E2%80%931))%20%3D%2048.)\n",
    "- [Understanding and Calculating the number of Parameters in Convolution Neural Networks (CNNs)](https://towardsdatascience.com/understanding-and-calculating-the-number-of-parameters-in-convolution-neural-networks-cnns-fc88790d530d)\n",
    "- [Calculate model parameters in Convolutional Neural Networks (CIFAR-10)](https://stats.stackexchange.com/questions/336908/calculate-model-parameters-in-convolutional-neural-networks-cifar-10)\n",
    "- [Overfitting plots](https://www.freecodecamp.org/news/how-to-build-your-first-neural-network-to-predict-house-prices-with-keras-f8db83049159/)\n",
    "- [Plot analysis](https://stats.stackexchange.com/questions/292700/overfitting-in-neural-network)"
   ]
  },
  {
   "cell_type": "markdown",
   "metadata": {},
   "source": [
    "****** END of Basic CNN ******\n",
    "\n",
    "---------------------------------"
   ]
  }
 ],
 "metadata": {
  "kernelspec": {
   "display_name": "Python 3",
   "language": "python",
   "name": "python3"
  },
  "language_info": {
   "codemirror_mode": {
    "name": "ipython",
    "version": 3
   },
   "file_extension": ".py",
   "mimetype": "text/x-python",
   "name": "python",
   "nbconvert_exporter": "python",
   "pygments_lexer": "ipython3",
   "version": "3.6.4"
  }
 },
 "nbformat": 4,
 "nbformat_minor": 2
}
